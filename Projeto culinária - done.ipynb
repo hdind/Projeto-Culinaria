{
 "cells": [
  {
   "cell_type": "markdown",
   "metadata": {},
   "source": [
    "# Projeto - Culinária\n",
    "## Explorando os dados"
   ]
  },
  {
   "cell_type": "code",
   "execution_count": 99,
   "metadata": {
    "button": false,
    "jupyter": {
     "outputs_hidden": true
    },
    "new_sheet": false,
    "run_control": {
     "read_only": false
    }
   },
   "outputs": [],
   "source": [
    "## Importando libs\n",
    "\n",
    "import pandas as pd \n",
    "import numpy as np \n",
    "import re\n",
    "\n",
    "import seaborn as sns\n",
    "import matplotlib.pyplot as plt\n",
    "import sweetviz as sv\n",
    "\n",
    "from sklearn.model_selection import train_test_split, GridSearchCV, ParameterGrid, KFold\n",
    "from sklearn.metrics import roc_auc_score, accuracy_score, precision_score, recall_score, f1_score\n",
    "from sklearn.preprocessing import StandardScaler\n",
    "from sklearn.pipeline import Pipeline\n",
    "from sklearn.ensemble import RandomForestClassifier\n",
    "from sklearn.preprocessing import LabelEncoder\n",
    "\n",
    "pd.set_option(\"max_colwidth\", 1000000)\n",
    "pd.options.display.float_format = \"{:,.2f}\".format\n",
    "plt.style.use(\"classic\")"
   ]
  },
  {
   "cell_type": "code",
   "execution_count": 100,
   "metadata": {
    "button": false,
    "jupyter": {
     "outputs_hidden": true
    },
    "new_sheet": false,
    "run_control": {
     "read_only": false
    }
   },
   "outputs": [
    {
     "name": "stdout",
     "output_type": "stream",
     "text": [
      "Tudo pronto\n"
     ]
    }
   ],
   "source": [
    "## Importando dataset\n",
    "\n",
    "recipes = pd.read_csv(\"https://cf-courses-data.s3.us.cloud-object-storage.appdomain.cloud/IBMDeveloperSkillsNetwork-DS0103EN-SkillsNetwork/labs/Module%202/recipes.csv\")\n",
    "print(\"Tudo pronto\")"
   ]
  },
  {
   "cell_type": "markdown",
   "metadata": {},
   "source": [
    "Vamos olhar um pouco o dataset"
   ]
  },
  {
   "cell_type": "code",
   "execution_count": 101,
   "metadata": {
    "button": false,
    "jupyter": {
     "outputs_hidden": true
    },
    "new_sheet": false,
    "run_control": {
     "read_only": false
    }
   },
   "outputs": [
    {
     "data": {
      "text/html": [
       "<div>\n",
       "<style scoped>\n",
       "    .dataframe tbody tr th:only-of-type {\n",
       "        vertical-align: middle;\n",
       "    }\n",
       "\n",
       "    .dataframe tbody tr th {\n",
       "        vertical-align: top;\n",
       "    }\n",
       "\n",
       "    .dataframe thead th {\n",
       "        text-align: right;\n",
       "    }\n",
       "</style>\n",
       "<table border=\"1\" class=\"dataframe\">\n",
       "  <thead>\n",
       "    <tr style=\"text-align: right;\">\n",
       "      <th></th>\n",
       "      <th>country</th>\n",
       "      <th>almond</th>\n",
       "      <th>angelica</th>\n",
       "      <th>anise</th>\n",
       "      <th>anise_seed</th>\n",
       "      <th>apple</th>\n",
       "      <th>apple_brandy</th>\n",
       "      <th>apricot</th>\n",
       "      <th>armagnac</th>\n",
       "      <th>artemisia</th>\n",
       "      <th>...</th>\n",
       "      <th>whiskey</th>\n",
       "      <th>white_bread</th>\n",
       "      <th>white_wine</th>\n",
       "      <th>whole_grain_wheat_flour</th>\n",
       "      <th>wine</th>\n",
       "      <th>wood</th>\n",
       "      <th>yam</th>\n",
       "      <th>yeast</th>\n",
       "      <th>yogurt</th>\n",
       "      <th>zucchini</th>\n",
       "    </tr>\n",
       "  </thead>\n",
       "  <tbody>\n",
       "    <tr>\n",
       "      <th>0</th>\n",
       "      <td>Vietnamese</td>\n",
       "      <td>No</td>\n",
       "      <td>No</td>\n",
       "      <td>No</td>\n",
       "      <td>No</td>\n",
       "      <td>No</td>\n",
       "      <td>No</td>\n",
       "      <td>No</td>\n",
       "      <td>No</td>\n",
       "      <td>No</td>\n",
       "      <td>...</td>\n",
       "      <td>No</td>\n",
       "      <td>No</td>\n",
       "      <td>No</td>\n",
       "      <td>No</td>\n",
       "      <td>No</td>\n",
       "      <td>No</td>\n",
       "      <td>No</td>\n",
       "      <td>No</td>\n",
       "      <td>No</td>\n",
       "      <td>No</td>\n",
       "    </tr>\n",
       "    <tr>\n",
       "      <th>1</th>\n",
       "      <td>Vietnamese</td>\n",
       "      <td>No</td>\n",
       "      <td>No</td>\n",
       "      <td>No</td>\n",
       "      <td>No</td>\n",
       "      <td>No</td>\n",
       "      <td>No</td>\n",
       "      <td>No</td>\n",
       "      <td>No</td>\n",
       "      <td>No</td>\n",
       "      <td>...</td>\n",
       "      <td>No</td>\n",
       "      <td>No</td>\n",
       "      <td>No</td>\n",
       "      <td>No</td>\n",
       "      <td>No</td>\n",
       "      <td>No</td>\n",
       "      <td>No</td>\n",
       "      <td>No</td>\n",
       "      <td>No</td>\n",
       "      <td>No</td>\n",
       "    </tr>\n",
       "    <tr>\n",
       "      <th>2</th>\n",
       "      <td>Vietnamese</td>\n",
       "      <td>No</td>\n",
       "      <td>No</td>\n",
       "      <td>No</td>\n",
       "      <td>No</td>\n",
       "      <td>No</td>\n",
       "      <td>No</td>\n",
       "      <td>No</td>\n",
       "      <td>No</td>\n",
       "      <td>No</td>\n",
       "      <td>...</td>\n",
       "      <td>No</td>\n",
       "      <td>No</td>\n",
       "      <td>No</td>\n",
       "      <td>No</td>\n",
       "      <td>No</td>\n",
       "      <td>No</td>\n",
       "      <td>No</td>\n",
       "      <td>No</td>\n",
       "      <td>No</td>\n",
       "      <td>No</td>\n",
       "    </tr>\n",
       "    <tr>\n",
       "      <th>3</th>\n",
       "      <td>Vietnamese</td>\n",
       "      <td>No</td>\n",
       "      <td>No</td>\n",
       "      <td>No</td>\n",
       "      <td>No</td>\n",
       "      <td>No</td>\n",
       "      <td>No</td>\n",
       "      <td>No</td>\n",
       "      <td>No</td>\n",
       "      <td>No</td>\n",
       "      <td>...</td>\n",
       "      <td>No</td>\n",
       "      <td>No</td>\n",
       "      <td>No</td>\n",
       "      <td>No</td>\n",
       "      <td>No</td>\n",
       "      <td>No</td>\n",
       "      <td>No</td>\n",
       "      <td>No</td>\n",
       "      <td>No</td>\n",
       "      <td>No</td>\n",
       "    </tr>\n",
       "    <tr>\n",
       "      <th>4</th>\n",
       "      <td>Vietnamese</td>\n",
       "      <td>No</td>\n",
       "      <td>No</td>\n",
       "      <td>No</td>\n",
       "      <td>No</td>\n",
       "      <td>No</td>\n",
       "      <td>No</td>\n",
       "      <td>No</td>\n",
       "      <td>No</td>\n",
       "      <td>No</td>\n",
       "      <td>...</td>\n",
       "      <td>No</td>\n",
       "      <td>No</td>\n",
       "      <td>No</td>\n",
       "      <td>No</td>\n",
       "      <td>No</td>\n",
       "      <td>No</td>\n",
       "      <td>No</td>\n",
       "      <td>No</td>\n",
       "      <td>No</td>\n",
       "      <td>No</td>\n",
       "    </tr>\n",
       "  </tbody>\n",
       "</table>\n",
       "<p>5 rows × 384 columns</p>\n",
       "</div>"
      ],
      "text/plain": [
       "      country almond angelica anise anise_seed apple apple_brandy apricot  \\\n",
       "0  Vietnamese     No       No    No         No    No           No      No   \n",
       "1  Vietnamese     No       No    No         No    No           No      No   \n",
       "2  Vietnamese     No       No    No         No    No           No      No   \n",
       "3  Vietnamese     No       No    No         No    No           No      No   \n",
       "4  Vietnamese     No       No    No         No    No           No      No   \n",
       "\n",
       "  armagnac artemisia  ... whiskey white_bread white_wine  \\\n",
       "0       No        No  ...      No          No         No   \n",
       "1       No        No  ...      No          No         No   \n",
       "2       No        No  ...      No          No         No   \n",
       "3       No        No  ...      No          No         No   \n",
       "4       No        No  ...      No          No         No   \n",
       "\n",
       "  whole_grain_wheat_flour wine wood yam yeast yogurt zucchini  \n",
       "0                      No   No   No  No    No     No       No  \n",
       "1                      No   No   No  No    No     No       No  \n",
       "2                      No   No   No  No    No     No       No  \n",
       "3                      No   No   No  No    No     No       No  \n",
       "4                      No   No   No  No    No     No       No  \n",
       "\n",
       "[5 rows x 384 columns]"
      ]
     },
     "execution_count": 101,
     "metadata": {},
     "output_type": "execute_result"
    }
   ],
   "source": [
    "## Olhando as primeiras linhas\n",
    "\n",
    "recipes.head()"
   ]
  },
  {
   "cell_type": "code",
   "execution_count": 102,
   "metadata": {
    "button": false,
    "jupyter": {
     "outputs_hidden": true
    },
    "new_sheet": false,
    "run_control": {
     "read_only": false
    }
   },
   "outputs": [
    {
     "data": {
      "text/plain": [
       "(57691, 384)"
      ]
     },
     "execution_count": 102,
     "metadata": {},
     "output_type": "execute_result"
    }
   ],
   "source": [
    "## O tamanho total do dataframe\n",
    "\n",
    "recipes.shape"
   ]
  },
  {
   "cell_type": "code",
   "execution_count": 103,
   "metadata": {
    "button": false,
    "jupyter": {
     "outputs_hidden": true
    },
    "new_sheet": false,
    "run_control": {
     "read_only": false
    }
   },
   "outputs": [
    {
     "name": "stdout",
     "output_type": "stream",
     "text": [
      "['brown_rice', 'licorice', 'rice']\n",
      "['wasabi']\n",
      "['soy_sauce', 'soybean', 'soybean_oil']\n"
     ]
    }
   ],
   "source": [
    "## Descobrindo se arroz, wasabi e\\ ou soja aparecem em algum dos ingrdientes de alguma forma\n",
    "\n",
    "ingredients = list(recipes.columns.values)\n",
    "\n",
    "print([match.group(0) for ingredient in ingredients for match in [(re.compile(\".*(rice).*\")).search(ingredient)] if match])\n",
    "print([match.group(0) for ingredient in ingredients for match in [(re.compile(\".*(wasabi).*\")).search(ingredient)] if match])\n",
    "print([match.group(0) for ingredient in ingredients for match in [(re.compile(\".*(soy).*\")).search(ingredient)] if match])"
   ]
  },
  {
   "cell_type": "code",
   "execution_count": 104,
   "metadata": {
    "button": false,
    "jupyter": {
     "outputs_hidden": true
    },
    "new_sheet": false,
    "run_control": {
     "read_only": false
    },
    "scrolled": false
   },
   "outputs": [
    {
     "data": {
      "text/html": [
       "<div>\n",
       "<style scoped>\n",
       "    .dataframe tbody tr th:only-of-type {\n",
       "        vertical-align: middle;\n",
       "    }\n",
       "\n",
       "    .dataframe tbody tr th {\n",
       "        vertical-align: top;\n",
       "    }\n",
       "\n",
       "    .dataframe thead th {\n",
       "        text-align: right;\n",
       "    }\n",
       "</style>\n",
       "<table border=\"1\" class=\"dataframe\">\n",
       "  <thead>\n",
       "    <tr style=\"text-align: right;\">\n",
       "      <th></th>\n",
       "      <th>cuisine</th>\n",
       "      <th>almond</th>\n",
       "      <th>angelica</th>\n",
       "      <th>anise</th>\n",
       "      <th>anise_seed</th>\n",
       "      <th>apple</th>\n",
       "      <th>apple_brandy</th>\n",
       "      <th>apricot</th>\n",
       "      <th>armagnac</th>\n",
       "      <th>artemisia</th>\n",
       "      <th>...</th>\n",
       "      <th>whiskey</th>\n",
       "      <th>white_bread</th>\n",
       "      <th>white_wine</th>\n",
       "      <th>whole_grain_wheat_flour</th>\n",
       "      <th>wine</th>\n",
       "      <th>wood</th>\n",
       "      <th>yam</th>\n",
       "      <th>yeast</th>\n",
       "      <th>yogurt</th>\n",
       "      <th>zucchini</th>\n",
       "    </tr>\n",
       "  </thead>\n",
       "  <tbody>\n",
       "    <tr>\n",
       "      <th>0</th>\n",
       "      <td>Vietnamese</td>\n",
       "      <td>No</td>\n",
       "      <td>No</td>\n",
       "      <td>No</td>\n",
       "      <td>No</td>\n",
       "      <td>No</td>\n",
       "      <td>No</td>\n",
       "      <td>No</td>\n",
       "      <td>No</td>\n",
       "      <td>No</td>\n",
       "      <td>...</td>\n",
       "      <td>No</td>\n",
       "      <td>No</td>\n",
       "      <td>No</td>\n",
       "      <td>No</td>\n",
       "      <td>No</td>\n",
       "      <td>No</td>\n",
       "      <td>No</td>\n",
       "      <td>No</td>\n",
       "      <td>No</td>\n",
       "      <td>No</td>\n",
       "    </tr>\n",
       "    <tr>\n",
       "      <th>1</th>\n",
       "      <td>Vietnamese</td>\n",
       "      <td>No</td>\n",
       "      <td>No</td>\n",
       "      <td>No</td>\n",
       "      <td>No</td>\n",
       "      <td>No</td>\n",
       "      <td>No</td>\n",
       "      <td>No</td>\n",
       "      <td>No</td>\n",
       "      <td>No</td>\n",
       "      <td>...</td>\n",
       "      <td>No</td>\n",
       "      <td>No</td>\n",
       "      <td>No</td>\n",
       "      <td>No</td>\n",
       "      <td>No</td>\n",
       "      <td>No</td>\n",
       "      <td>No</td>\n",
       "      <td>No</td>\n",
       "      <td>No</td>\n",
       "      <td>No</td>\n",
       "    </tr>\n",
       "    <tr>\n",
       "      <th>2</th>\n",
       "      <td>Vietnamese</td>\n",
       "      <td>No</td>\n",
       "      <td>No</td>\n",
       "      <td>No</td>\n",
       "      <td>No</td>\n",
       "      <td>No</td>\n",
       "      <td>No</td>\n",
       "      <td>No</td>\n",
       "      <td>No</td>\n",
       "      <td>No</td>\n",
       "      <td>...</td>\n",
       "      <td>No</td>\n",
       "      <td>No</td>\n",
       "      <td>No</td>\n",
       "      <td>No</td>\n",
       "      <td>No</td>\n",
       "      <td>No</td>\n",
       "      <td>No</td>\n",
       "      <td>No</td>\n",
       "      <td>No</td>\n",
       "      <td>No</td>\n",
       "    </tr>\n",
       "    <tr>\n",
       "      <th>3</th>\n",
       "      <td>Vietnamese</td>\n",
       "      <td>No</td>\n",
       "      <td>No</td>\n",
       "      <td>No</td>\n",
       "      <td>No</td>\n",
       "      <td>No</td>\n",
       "      <td>No</td>\n",
       "      <td>No</td>\n",
       "      <td>No</td>\n",
       "      <td>No</td>\n",
       "      <td>...</td>\n",
       "      <td>No</td>\n",
       "      <td>No</td>\n",
       "      <td>No</td>\n",
       "      <td>No</td>\n",
       "      <td>No</td>\n",
       "      <td>No</td>\n",
       "      <td>No</td>\n",
       "      <td>No</td>\n",
       "      <td>No</td>\n",
       "      <td>No</td>\n",
       "    </tr>\n",
       "    <tr>\n",
       "      <th>4</th>\n",
       "      <td>Vietnamese</td>\n",
       "      <td>No</td>\n",
       "      <td>No</td>\n",
       "      <td>No</td>\n",
       "      <td>No</td>\n",
       "      <td>No</td>\n",
       "      <td>No</td>\n",
       "      <td>No</td>\n",
       "      <td>No</td>\n",
       "      <td>No</td>\n",
       "      <td>...</td>\n",
       "      <td>No</td>\n",
       "      <td>No</td>\n",
       "      <td>No</td>\n",
       "      <td>No</td>\n",
       "      <td>No</td>\n",
       "      <td>No</td>\n",
       "      <td>No</td>\n",
       "      <td>No</td>\n",
       "      <td>No</td>\n",
       "      <td>No</td>\n",
       "    </tr>\n",
       "    <tr>\n",
       "      <th>...</th>\n",
       "      <td>...</td>\n",
       "      <td>...</td>\n",
       "      <td>...</td>\n",
       "      <td>...</td>\n",
       "      <td>...</td>\n",
       "      <td>...</td>\n",
       "      <td>...</td>\n",
       "      <td>...</td>\n",
       "      <td>...</td>\n",
       "      <td>...</td>\n",
       "      <td>...</td>\n",
       "      <td>...</td>\n",
       "      <td>...</td>\n",
       "      <td>...</td>\n",
       "      <td>...</td>\n",
       "      <td>...</td>\n",
       "      <td>...</td>\n",
       "      <td>...</td>\n",
       "      <td>...</td>\n",
       "      <td>...</td>\n",
       "      <td>...</td>\n",
       "    </tr>\n",
       "    <tr>\n",
       "      <th>57686</th>\n",
       "      <td>Japan</td>\n",
       "      <td>No</td>\n",
       "      <td>No</td>\n",
       "      <td>No</td>\n",
       "      <td>No</td>\n",
       "      <td>No</td>\n",
       "      <td>No</td>\n",
       "      <td>No</td>\n",
       "      <td>No</td>\n",
       "      <td>No</td>\n",
       "      <td>...</td>\n",
       "      <td>No</td>\n",
       "      <td>No</td>\n",
       "      <td>No</td>\n",
       "      <td>No</td>\n",
       "      <td>No</td>\n",
       "      <td>No</td>\n",
       "      <td>No</td>\n",
       "      <td>No</td>\n",
       "      <td>No</td>\n",
       "      <td>No</td>\n",
       "    </tr>\n",
       "    <tr>\n",
       "      <th>57687</th>\n",
       "      <td>Japan</td>\n",
       "      <td>No</td>\n",
       "      <td>No</td>\n",
       "      <td>No</td>\n",
       "      <td>No</td>\n",
       "      <td>No</td>\n",
       "      <td>No</td>\n",
       "      <td>No</td>\n",
       "      <td>No</td>\n",
       "      <td>No</td>\n",
       "      <td>...</td>\n",
       "      <td>No</td>\n",
       "      <td>No</td>\n",
       "      <td>No</td>\n",
       "      <td>No</td>\n",
       "      <td>No</td>\n",
       "      <td>No</td>\n",
       "      <td>No</td>\n",
       "      <td>No</td>\n",
       "      <td>No</td>\n",
       "      <td>No</td>\n",
       "    </tr>\n",
       "    <tr>\n",
       "      <th>57688</th>\n",
       "      <td>Japan</td>\n",
       "      <td>No</td>\n",
       "      <td>No</td>\n",
       "      <td>No</td>\n",
       "      <td>No</td>\n",
       "      <td>No</td>\n",
       "      <td>No</td>\n",
       "      <td>No</td>\n",
       "      <td>No</td>\n",
       "      <td>No</td>\n",
       "      <td>...</td>\n",
       "      <td>No</td>\n",
       "      <td>No</td>\n",
       "      <td>No</td>\n",
       "      <td>No</td>\n",
       "      <td>No</td>\n",
       "      <td>No</td>\n",
       "      <td>No</td>\n",
       "      <td>No</td>\n",
       "      <td>No</td>\n",
       "      <td>No</td>\n",
       "    </tr>\n",
       "    <tr>\n",
       "      <th>57689</th>\n",
       "      <td>Japan</td>\n",
       "      <td>No</td>\n",
       "      <td>No</td>\n",
       "      <td>No</td>\n",
       "      <td>No</td>\n",
       "      <td>No</td>\n",
       "      <td>No</td>\n",
       "      <td>No</td>\n",
       "      <td>No</td>\n",
       "      <td>No</td>\n",
       "      <td>...</td>\n",
       "      <td>No</td>\n",
       "      <td>No</td>\n",
       "      <td>No</td>\n",
       "      <td>No</td>\n",
       "      <td>No</td>\n",
       "      <td>No</td>\n",
       "      <td>No</td>\n",
       "      <td>No</td>\n",
       "      <td>No</td>\n",
       "      <td>No</td>\n",
       "    </tr>\n",
       "    <tr>\n",
       "      <th>57690</th>\n",
       "      <td>Japan</td>\n",
       "      <td>No</td>\n",
       "      <td>No</td>\n",
       "      <td>No</td>\n",
       "      <td>No</td>\n",
       "      <td>No</td>\n",
       "      <td>No</td>\n",
       "      <td>No</td>\n",
       "      <td>No</td>\n",
       "      <td>No</td>\n",
       "      <td>...</td>\n",
       "      <td>No</td>\n",
       "      <td>No</td>\n",
       "      <td>No</td>\n",
       "      <td>No</td>\n",
       "      <td>No</td>\n",
       "      <td>No</td>\n",
       "      <td>No</td>\n",
       "      <td>No</td>\n",
       "      <td>No</td>\n",
       "      <td>No</td>\n",
       "    </tr>\n",
       "  </tbody>\n",
       "</table>\n",
       "<p>57691 rows × 384 columns</p>\n",
       "</div>"
      ],
      "text/plain": [
       "          cuisine almond angelica anise anise_seed apple apple_brandy apricot  \\\n",
       "0      Vietnamese     No       No    No         No    No           No      No   \n",
       "1      Vietnamese     No       No    No         No    No           No      No   \n",
       "2      Vietnamese     No       No    No         No    No           No      No   \n",
       "3      Vietnamese     No       No    No         No    No           No      No   \n",
       "4      Vietnamese     No       No    No         No    No           No      No   \n",
       "...           ...    ...      ...   ...        ...   ...          ...     ...   \n",
       "57686       Japan     No       No    No         No    No           No      No   \n",
       "57687       Japan     No       No    No         No    No           No      No   \n",
       "57688       Japan     No       No    No         No    No           No      No   \n",
       "57689       Japan     No       No    No         No    No           No      No   \n",
       "57690       Japan     No       No    No         No    No           No      No   \n",
       "\n",
       "      armagnac artemisia  ... whiskey white_bread white_wine  \\\n",
       "0           No        No  ...      No          No         No   \n",
       "1           No        No  ...      No          No         No   \n",
       "2           No        No  ...      No          No         No   \n",
       "3           No        No  ...      No          No         No   \n",
       "4           No        No  ...      No          No         No   \n",
       "...        ...       ...  ...     ...         ...        ...   \n",
       "57686       No        No  ...      No          No         No   \n",
       "57687       No        No  ...      No          No         No   \n",
       "57688       No        No  ...      No          No         No   \n",
       "57689       No        No  ...      No          No         No   \n",
       "57690       No        No  ...      No          No         No   \n",
       "\n",
       "      whole_grain_wheat_flour wine wood yam yeast yogurt zucchini  \n",
       "0                          No   No   No  No    No     No       No  \n",
       "1                          No   No   No  No    No     No       No  \n",
       "2                          No   No   No  No    No     No       No  \n",
       "3                          No   No   No  No    No     No       No  \n",
       "4                          No   No   No  No    No     No       No  \n",
       "...                       ...  ...  ...  ..   ...    ...      ...  \n",
       "57686                      No   No   No  No    No     No       No  \n",
       "57687                      No   No   No  No    No     No       No  \n",
       "57688                      No   No   No  No    No     No       No  \n",
       "57689                      No   No   No  No    No     No       No  \n",
       "57690                      No   No   No  No    No     No       No  \n",
       "\n",
       "[57691 rows x 384 columns]"
      ]
     },
     "execution_count": 104,
     "metadata": {},
     "output_type": "execute_result"
    }
   ],
   "source": [
    "## Vamos alterar o nome da primeira coluna de \"country\" para \"cuisine\"\n",
    "## que faz mais sentido para nosso estudo\n",
    "\n",
    "column_names = recipes.columns.values\n",
    "column_names[0] = \"cuisine\"\n",
    "recipes.columns = column_names\n",
    "\n",
    "recipes"
   ]
  },
  {
   "cell_type": "markdown",
   "metadata": {},
   "source": [
    "Vamos ajustar algumas coisas que vão facilitar na análise e no treinamento do modelo mais para frente"
   ]
  },
  {
   "cell_type": "code",
   "execution_count": 105,
   "metadata": {
    "button": false,
    "jupyter": {
     "outputs_hidden": true
    },
    "new_sheet": false,
    "run_control": {
     "read_only": false
    }
   },
   "outputs": [],
   "source": [
    "## Transformando todas as letras em minusculas\n",
    "\n",
    "recipes[\"cuisine\"] = recipes[\"cuisine\"].str.lower()"
   ]
  },
  {
   "cell_type": "code",
   "execution_count": 106,
   "metadata": {
    "scrolled": false
   },
   "outputs": [
    {
     "data": {
      "text/plain": [
       "american        40150\n",
       "italian          1789\n",
       "mexico           1768\n",
       "italy            1461\n",
       "asian            1193\n",
       "                ...  \n",
       "indonesia          12\n",
       "belgium            11\n",
       "east-african       11\n",
       "israel              9\n",
       "bangladesh          4\n",
       "Name: cuisine, Length: 64, dtype: int64"
      ]
     },
     "execution_count": 106,
     "metadata": {},
     "output_type": "execute_result"
    }
   ],
   "source": [
    "## Vamos observar se não temos culinárias \"repetidas\", mas com nomes diferentes, algumas semelhantes que podemos juntar e \n",
    "## mais alguma coisa que pode surgir\n",
    "\n",
    "recipes['cuisine'].value_counts()"
   ]
  },
  {
   "cell_type": "markdown",
   "metadata": {},
   "source": [
    "## Lembrete de revisão:\n",
    "southern_soulfood, southwestern, western"
   ]
  },
  {
   "cell_type": "code",
   "execution_count": 107,
   "metadata": {
    "button": false,
    "jupyter": {
     "outputs_hidden": true
    },
    "new_sheet": false,
    "run_control": {
     "read_only": false
    },
    "scrolled": false
   },
   "outputs": [
    {
     "data": {
      "text/html": [
       "<div>\n",
       "<style scoped>\n",
       "    .dataframe tbody tr th:only-of-type {\n",
       "        vertical-align: middle;\n",
       "    }\n",
       "\n",
       "    .dataframe tbody tr th {\n",
       "        vertical-align: top;\n",
       "    }\n",
       "\n",
       "    .dataframe thead th {\n",
       "        text-align: right;\n",
       "    }\n",
       "</style>\n",
       "<table border=\"1\" class=\"dataframe\">\n",
       "  <thead>\n",
       "    <tr style=\"text-align: right;\">\n",
       "      <th></th>\n",
       "      <th>cuisine</th>\n",
       "      <th>almond</th>\n",
       "      <th>angelica</th>\n",
       "      <th>anise</th>\n",
       "      <th>anise_seed</th>\n",
       "      <th>apple</th>\n",
       "      <th>apple_brandy</th>\n",
       "      <th>apricot</th>\n",
       "      <th>armagnac</th>\n",
       "      <th>artemisia</th>\n",
       "      <th>...</th>\n",
       "      <th>whiskey</th>\n",
       "      <th>white_bread</th>\n",
       "      <th>white_wine</th>\n",
       "      <th>whole_grain_wheat_flour</th>\n",
       "      <th>wine</th>\n",
       "      <th>wood</th>\n",
       "      <th>yam</th>\n",
       "      <th>yeast</th>\n",
       "      <th>yogurt</th>\n",
       "      <th>zucchini</th>\n",
       "    </tr>\n",
       "  </thead>\n",
       "  <tbody>\n",
       "    <tr>\n",
       "      <th>0</th>\n",
       "      <td>vietnamese</td>\n",
       "      <td>No</td>\n",
       "      <td>No</td>\n",
       "      <td>No</td>\n",
       "      <td>No</td>\n",
       "      <td>No</td>\n",
       "      <td>No</td>\n",
       "      <td>No</td>\n",
       "      <td>No</td>\n",
       "      <td>No</td>\n",
       "      <td>...</td>\n",
       "      <td>No</td>\n",
       "      <td>No</td>\n",
       "      <td>No</td>\n",
       "      <td>No</td>\n",
       "      <td>No</td>\n",
       "      <td>No</td>\n",
       "      <td>No</td>\n",
       "      <td>No</td>\n",
       "      <td>No</td>\n",
       "      <td>No</td>\n",
       "    </tr>\n",
       "    <tr>\n",
       "      <th>1</th>\n",
       "      <td>vietnamese</td>\n",
       "      <td>No</td>\n",
       "      <td>No</td>\n",
       "      <td>No</td>\n",
       "      <td>No</td>\n",
       "      <td>No</td>\n",
       "      <td>No</td>\n",
       "      <td>No</td>\n",
       "      <td>No</td>\n",
       "      <td>No</td>\n",
       "      <td>...</td>\n",
       "      <td>No</td>\n",
       "      <td>No</td>\n",
       "      <td>No</td>\n",
       "      <td>No</td>\n",
       "      <td>No</td>\n",
       "      <td>No</td>\n",
       "      <td>No</td>\n",
       "      <td>No</td>\n",
       "      <td>No</td>\n",
       "      <td>No</td>\n",
       "    </tr>\n",
       "    <tr>\n",
       "      <th>2</th>\n",
       "      <td>vietnamese</td>\n",
       "      <td>No</td>\n",
       "      <td>No</td>\n",
       "      <td>No</td>\n",
       "      <td>No</td>\n",
       "      <td>No</td>\n",
       "      <td>No</td>\n",
       "      <td>No</td>\n",
       "      <td>No</td>\n",
       "      <td>No</td>\n",
       "      <td>...</td>\n",
       "      <td>No</td>\n",
       "      <td>No</td>\n",
       "      <td>No</td>\n",
       "      <td>No</td>\n",
       "      <td>No</td>\n",
       "      <td>No</td>\n",
       "      <td>No</td>\n",
       "      <td>No</td>\n",
       "      <td>No</td>\n",
       "      <td>No</td>\n",
       "    </tr>\n",
       "    <tr>\n",
       "      <th>3</th>\n",
       "      <td>vietnamese</td>\n",
       "      <td>No</td>\n",
       "      <td>No</td>\n",
       "      <td>No</td>\n",
       "      <td>No</td>\n",
       "      <td>No</td>\n",
       "      <td>No</td>\n",
       "      <td>No</td>\n",
       "      <td>No</td>\n",
       "      <td>No</td>\n",
       "      <td>...</td>\n",
       "      <td>No</td>\n",
       "      <td>No</td>\n",
       "      <td>No</td>\n",
       "      <td>No</td>\n",
       "      <td>No</td>\n",
       "      <td>No</td>\n",
       "      <td>No</td>\n",
       "      <td>No</td>\n",
       "      <td>No</td>\n",
       "      <td>No</td>\n",
       "    </tr>\n",
       "    <tr>\n",
       "      <th>4</th>\n",
       "      <td>vietnamese</td>\n",
       "      <td>No</td>\n",
       "      <td>No</td>\n",
       "      <td>No</td>\n",
       "      <td>No</td>\n",
       "      <td>No</td>\n",
       "      <td>No</td>\n",
       "      <td>No</td>\n",
       "      <td>No</td>\n",
       "      <td>No</td>\n",
       "      <td>...</td>\n",
       "      <td>No</td>\n",
       "      <td>No</td>\n",
       "      <td>No</td>\n",
       "      <td>No</td>\n",
       "      <td>No</td>\n",
       "      <td>No</td>\n",
       "      <td>No</td>\n",
       "      <td>No</td>\n",
       "      <td>No</td>\n",
       "      <td>No</td>\n",
       "    </tr>\n",
       "    <tr>\n",
       "      <th>...</th>\n",
       "      <td>...</td>\n",
       "      <td>...</td>\n",
       "      <td>...</td>\n",
       "      <td>...</td>\n",
       "      <td>...</td>\n",
       "      <td>...</td>\n",
       "      <td>...</td>\n",
       "      <td>...</td>\n",
       "      <td>...</td>\n",
       "      <td>...</td>\n",
       "      <td>...</td>\n",
       "      <td>...</td>\n",
       "      <td>...</td>\n",
       "      <td>...</td>\n",
       "      <td>...</td>\n",
       "      <td>...</td>\n",
       "      <td>...</td>\n",
       "      <td>...</td>\n",
       "      <td>...</td>\n",
       "      <td>...</td>\n",
       "      <td>...</td>\n",
       "    </tr>\n",
       "    <tr>\n",
       "      <th>57686</th>\n",
       "      <td>japanese</td>\n",
       "      <td>No</td>\n",
       "      <td>No</td>\n",
       "      <td>No</td>\n",
       "      <td>No</td>\n",
       "      <td>No</td>\n",
       "      <td>No</td>\n",
       "      <td>No</td>\n",
       "      <td>No</td>\n",
       "      <td>No</td>\n",
       "      <td>...</td>\n",
       "      <td>No</td>\n",
       "      <td>No</td>\n",
       "      <td>No</td>\n",
       "      <td>No</td>\n",
       "      <td>No</td>\n",
       "      <td>No</td>\n",
       "      <td>No</td>\n",
       "      <td>No</td>\n",
       "      <td>No</td>\n",
       "      <td>No</td>\n",
       "    </tr>\n",
       "    <tr>\n",
       "      <th>57687</th>\n",
       "      <td>japanese</td>\n",
       "      <td>No</td>\n",
       "      <td>No</td>\n",
       "      <td>No</td>\n",
       "      <td>No</td>\n",
       "      <td>No</td>\n",
       "      <td>No</td>\n",
       "      <td>No</td>\n",
       "      <td>No</td>\n",
       "      <td>No</td>\n",
       "      <td>...</td>\n",
       "      <td>No</td>\n",
       "      <td>No</td>\n",
       "      <td>No</td>\n",
       "      <td>No</td>\n",
       "      <td>No</td>\n",
       "      <td>No</td>\n",
       "      <td>No</td>\n",
       "      <td>No</td>\n",
       "      <td>No</td>\n",
       "      <td>No</td>\n",
       "    </tr>\n",
       "    <tr>\n",
       "      <th>57688</th>\n",
       "      <td>japanese</td>\n",
       "      <td>No</td>\n",
       "      <td>No</td>\n",
       "      <td>No</td>\n",
       "      <td>No</td>\n",
       "      <td>No</td>\n",
       "      <td>No</td>\n",
       "      <td>No</td>\n",
       "      <td>No</td>\n",
       "      <td>No</td>\n",
       "      <td>...</td>\n",
       "      <td>No</td>\n",
       "      <td>No</td>\n",
       "      <td>No</td>\n",
       "      <td>No</td>\n",
       "      <td>No</td>\n",
       "      <td>No</td>\n",
       "      <td>No</td>\n",
       "      <td>No</td>\n",
       "      <td>No</td>\n",
       "      <td>No</td>\n",
       "    </tr>\n",
       "    <tr>\n",
       "      <th>57689</th>\n",
       "      <td>japanese</td>\n",
       "      <td>No</td>\n",
       "      <td>No</td>\n",
       "      <td>No</td>\n",
       "      <td>No</td>\n",
       "      <td>No</td>\n",
       "      <td>No</td>\n",
       "      <td>No</td>\n",
       "      <td>No</td>\n",
       "      <td>No</td>\n",
       "      <td>...</td>\n",
       "      <td>No</td>\n",
       "      <td>No</td>\n",
       "      <td>No</td>\n",
       "      <td>No</td>\n",
       "      <td>No</td>\n",
       "      <td>No</td>\n",
       "      <td>No</td>\n",
       "      <td>No</td>\n",
       "      <td>No</td>\n",
       "      <td>No</td>\n",
       "    </tr>\n",
       "    <tr>\n",
       "      <th>57690</th>\n",
       "      <td>japanese</td>\n",
       "      <td>No</td>\n",
       "      <td>No</td>\n",
       "      <td>No</td>\n",
       "      <td>No</td>\n",
       "      <td>No</td>\n",
       "      <td>No</td>\n",
       "      <td>No</td>\n",
       "      <td>No</td>\n",
       "      <td>No</td>\n",
       "      <td>...</td>\n",
       "      <td>No</td>\n",
       "      <td>No</td>\n",
       "      <td>No</td>\n",
       "      <td>No</td>\n",
       "      <td>No</td>\n",
       "      <td>No</td>\n",
       "      <td>No</td>\n",
       "      <td>No</td>\n",
       "      <td>No</td>\n",
       "      <td>No</td>\n",
       "    </tr>\n",
       "  </tbody>\n",
       "</table>\n",
       "<p>57691 rows × 384 columns</p>\n",
       "</div>"
      ],
      "text/plain": [
       "          cuisine almond angelica anise anise_seed apple apple_brandy apricot  \\\n",
       "0      vietnamese     No       No    No         No    No           No      No   \n",
       "1      vietnamese     No       No    No         No    No           No      No   \n",
       "2      vietnamese     No       No    No         No    No           No      No   \n",
       "3      vietnamese     No       No    No         No    No           No      No   \n",
       "4      vietnamese     No       No    No         No    No           No      No   \n",
       "...           ...    ...      ...   ...        ...   ...          ...     ...   \n",
       "57686    japanese     No       No    No         No    No           No      No   \n",
       "57687    japanese     No       No    No         No    No           No      No   \n",
       "57688    japanese     No       No    No         No    No           No      No   \n",
       "57689    japanese     No       No    No         No    No           No      No   \n",
       "57690    japanese     No       No    No         No    No           No      No   \n",
       "\n",
       "      armagnac artemisia  ... whiskey white_bread white_wine  \\\n",
       "0           No        No  ...      No          No         No   \n",
       "1           No        No  ...      No          No         No   \n",
       "2           No        No  ...      No          No         No   \n",
       "3           No        No  ...      No          No         No   \n",
       "4           No        No  ...      No          No         No   \n",
       "...        ...       ...  ...     ...         ...        ...   \n",
       "57686       No        No  ...      No          No         No   \n",
       "57687       No        No  ...      No          No         No   \n",
       "57688       No        No  ...      No          No         No   \n",
       "57689       No        No  ...      No          No         No   \n",
       "57690       No        No  ...      No          No         No   \n",
       "\n",
       "      whole_grain_wheat_flour wine wood yam yeast yogurt zucchini  \n",
       "0                          No   No   No  No    No     No       No  \n",
       "1                          No   No   No  No    No     No       No  \n",
       "2                          No   No   No  No    No     No       No  \n",
       "3                          No   No   No  No    No     No       No  \n",
       "4                          No   No   No  No    No     No       No  \n",
       "...                       ...  ...  ...  ..   ...    ...      ...  \n",
       "57686                      No   No   No  No    No     No       No  \n",
       "57687                      No   No   No  No    No     No       No  \n",
       "57688                      No   No   No  No    No     No       No  \n",
       "57689                      No   No   No  No    No     No       No  \n",
       "57690                      No   No   No  No    No     No       No  \n",
       "\n",
       "[57691 rows x 384 columns]"
      ]
     },
     "execution_count": 107,
     "metadata": {},
     "output_type": "execute_result"
    }
   ],
   "source": [
    "## Verificamos alguns ajustes que vão facilitar nossa análise e o modelo logo menos.\n",
    "## Então vamos padronizar os nomes das culinárias o máximo possível\n",
    "\n",
    "recipes.loc[recipes[\"cuisine\"] == \"austria\", \"cuisine\"] = \"austrian\"\n",
    "recipes.loc[recipes[\"cuisine\"] == \"scandinavia\", \"cuisine\"] = \"scandinavian\"\n",
    "recipes.loc[recipes[\"cuisine\"] == \"south_america\", \"cuisine\"] = \"south_american\"\n",
    "recipes.loc[recipes[\"cuisine\"] == \"malaysia\", \"cuisine\"] = \"malaysian\"\n",
    "recipes.loc[recipes[\"cuisine\"] == \"bangladesh\", \"cuisine\"] = \"bangladeshi\"\n",
    "recipes.loc[recipes[\"cuisine\"] == \"cajun_creole\", \"cuisine\"] = \"louisiana_creole\"\n",
    "recipes.loc[recipes[\"cuisine\"] == \"belgium\", \"cuisine\"] = \"belgian\"\n",
    "recipes.loc[recipes[\"cuisine\"] == \"indonesia\", \"cuisine\"] = \"indonesian\"\n",
    "recipes.loc[recipes[\"cuisine\"] == \"china\", \"cuisine\"] = \"chinese\"\n",
    "recipes.loc[recipes[\"cuisine\"] == \"canada\", \"cuisine\"] = \"canadian\"\n",
    "recipes.loc[recipes[\"cuisine\"] == \"netherlands\", \"cuisine\"] = \"dutch\"\n",
    "recipes.loc[recipes[\"cuisine\"] == \"france\", \"cuisine\"] = \"french\"\n",
    "recipes.loc[recipes[\"cuisine\"] == \"germany\", \"cuisine\"] = \"german\"\n",
    "recipes.loc[recipes[\"cuisine\"] == \"india\", \"cuisine\"] = \"indian\"\n",
    "recipes.loc[recipes[\"cuisine\"] == \"indonesia\", \"cuisine\"] = \"indonesian\"\n",
    "recipes.loc[recipes[\"cuisine\"] == \"iran\", \"cuisine\"] = \"iranian\"\n",
    "recipes.loc[recipes[\"cuisine\"] == \"italy\", \"cuisine\"] = \"italian\"\n",
    "recipes.loc[recipes[\"cuisine\"] == \"japan\", \"cuisine\"] = \"japanese\"\n",
    "recipes.loc[recipes[\"cuisine\"] == \"israel\", \"cuisine\"] = \"israeli\"\n",
    "recipes.loc[recipes[\"cuisine\"] == \"korea\", \"cuisine\"] = \"korean\"\n",
    "recipes.loc[recipes[\"cuisine\"] == \"lebanon\", \"cuisine\"] = \"lebanese\"\n",
    "recipes.loc[recipes[\"cuisine\"] == \"malaysia\", \"cuisine\"] = \"malaysian\"\n",
    "recipes.loc[recipes[\"cuisine\"] == \"mexico\", \"cuisine\"] = \"mexican\"\n",
    "recipes.loc[recipes[\"cuisine\"] == \"pakistan\", \"cuisine\"] = \"pakistanese\"\n",
    "recipes.loc[recipes[\"cuisine\"] == \"philippines\", \"cuisine\"] = \"philippine\"\n",
    "recipes.loc[recipes[\"cuisine\"] == \"scandinavia\", \"cuisine\"] = \"scandinavian\"\n",
    "recipes.loc[recipes[\"cuisine\"] == \"spain\", \"cuisine\"] = \"spanish\"\n",
    "recipes.loc[recipes[\"cuisine\"] == \"portugal\", \"cuisine\"] = \"portuguese\"\n",
    "recipes.loc[recipes[\"cuisine\"] == \"switzerland\", \"cuisine\"] = \"swiss\"\n",
    "recipes.loc[recipes[\"cuisine\"] == \"thailand\", \"cuisine\"] = \"thai\"\n",
    "recipes.loc[recipes[\"cuisine\"] == \"turkey\", \"cuisine\"] = \"turkish\"\n",
    "recipes.loc[recipes[\"cuisine\"] == \"vietnam\", \"cuisine\"] = \"vietnamese\"\n",
    "recipes.loc[recipes[\"cuisine\"] == \"uk-and-ireland\", \"cuisine\"] = \"uk-and-irish\"\n",
    "recipes.loc[recipes[\"cuisine\"] == \"irish\", \"cuisine\"] = \"uk-and-irish\"\n",
    "\n",
    "recipes"
   ]
  },
  {
   "cell_type": "code",
   "execution_count": 108,
   "metadata": {},
   "outputs": [
    {
     "name": "stdout",
     "output_type": "stream",
     "text": [
      "O southern_soulfood tem  (346, 384) pratos no dataset\n",
      "O southwestern tem  (108, 384) pratos no dataset\n",
      "O western tem  (450, 384) pratos no dataset\n"
     ]
    }
   ],
   "source": [
    "## Achei estranho alguns nomes de culinárias, vamos ver se são relevantes em número\n",
    "\n",
    "print('O southern_soulfood tem ', recipes[(recipes['cuisine']=='southern_soulfood')].shape, 'pratos no dataset')\n",
    "print('O southwestern tem ', recipes[(recipes['cuisine']=='southwestern')].shape, 'pratos no dataset')\n",
    "print('O western tem ', recipes[(recipes['cuisine']=='western')].shape, 'pratos no dataset')"
   ]
  },
  {
   "cell_type": "markdown",
   "metadata": {},
   "source": [
    "Encontrei algumas no Google e tomei a decisão de manter os dados no dataset"
   ]
  },
  {
   "cell_type": "code",
   "execution_count": 109,
   "metadata": {
    "button": false,
    "jupyter": {
     "outputs_hidden": true
    },
    "new_sheet": false,
    "run_control": {
     "read_only": false
    }
   },
   "outputs": [],
   "source": [
    "## Vamos facilitar o processamento dos dados por parte do modelo de ml alterando os \"yes\" por 1 e os \"no\" por 0\n",
    "\n",
    "recipes = recipes.replace(to_replace=\"Yes\", value=1)\n",
    "recipes = recipes.replace(to_replace=\"No\", value=0)"
   ]
  },
  {
   "cell_type": "markdown",
   "metadata": {},
   "source": [
    "# Algumas perguntas a serem respondidas:\n",
    "## 1) Existem valores nulos? Se sim, o que faremos?\n",
    "## 2) Quais os ingredientes que mais aparecem nas receitas?\n",
    "## 3) Quais menos aparecem?\n",
    "## 4) A distribuição dos dados não é muito boa (muitas culinárias americanas e quase nenhuma bangladeshiana por exemplo), então precisamos nos preocupar?"
   ]
  },
  {
   "cell_type": "code",
   "execution_count": 12,
   "metadata": {},
   "outputs": [
    {
     "data": {
      "text/plain": [
       "False"
      ]
     },
     "execution_count": 12,
     "metadata": {},
     "output_type": "execute_result"
    }
   ],
   "source": [
    "## 1) Verificando valores nulos pelo df\n",
    "\n",
    "recipes.isnull().values.any()"
   ]
  },
  {
   "cell_type": "markdown",
   "metadata": {},
   "source": [
    "O arquivo está bem limpo, então não vamos precisar preencher ou excluir dados dele. Fica pra próxima!"
   ]
  },
  {
   "cell_type": "code",
   "execution_count": 13,
   "metadata": {},
   "outputs": [
    {
     "name": "stdout",
     "output_type": "stream",
     "text": [
      "[]\n",
      "[2329, 1, 224, 87, 2433, 37, 626, 11, 13, 391, 461, 662, 2172, 9, 3, 992, 267, 23, 3845, 1486, 2003, 1, 4946, 850, 10, 308, 233, 6006, 7, 183, 85, 495, 11, 30, 9893, 8, 26, 45, 170, 4, 396, 467, 50, 156, 399, 116, 4596, 931, 347, 92, 90, 20814, 1637, 1035, 17, 35, 12, 7770, 233, 375, 3, 7, 3717, 210, 22, 71, 333, 28, 8303, 3634, 1008, 204, 3, 100, 27, 3029, 3286, 1085, 34, 52, 5483, 3620, 52, 406, 157, 166, 1337, 1136, 2493, 5639, 171, 4, 476, 10, 4807, 1822, 17, 181, 720, 67, 12, 9, 1679, 4836, 225, 163, 348, 574, 920, 10194, 2843, 1908, 3321, 315, 242, 378, 1111, 1, 20, 21114, 319, 5, 1, 115, 106, 913, 940, 623, 139, 2113, 32, 37, 481, 51, 9, 17465, 1418, 1, 68, 4396, 260, 346, 8, 825, 121, 2590, 35, 45, 13, 31, 1302, 288, 10, 3, 2558, 3, 396, 10, 1, 13, 8, 2, 33, 1, 100, 63, 179, 442, 109, 6, 33, 488, 3062, 2, 62, 9, 426, 3066, 5099, 729, 221, 251, 1211, 21, 1, 149, 1165, 1622, 108, 9, 12, 42, 131, 2, 142, 103, 3117, 118, 44, 38, 279, 15, 420, 478, 528, 1, 57, 991, 163, 12925, 962, 1030, 1291, 24, 27, 1, 3379, 169, 4125, 3, 51, 67, 1259, 2522, 1267, 61, 45, 102, 1799, 9923, 18205, 1728, 18, 1728, 596, 3182, 9, 410, 47, 57, 3174, 5579, 140, 20, 1190, 531, 512, 1029, 312, 484, 11, 2178, 1, 9282, 142, 9, 2, 270, 1638, 222, 290, 97, 106, 2072, 5, 1371, 49, 3561, 65, 26, 20, 168, 806, 29, 528, 1905, 3, 786, 2, 2, 33, 59, 1399, 169, 3888, 3, 228, 1, 15, 1, 205, 1, 125, 597, 275, 101, 23, 63, 1893, 603, 34, 92, 131, 236, 904, 681, 452, 15, 18, 185, 128, 4798, 300, 4, 215, 1346, 1697, 781, 1310, 2, 27, 707, 595, 1690, 463, 6, 100, 268, 50, 46, 3828, 1197, 2, 6, 573, 238, 133, 2740, 1081, 1, 2, 1, 14, 8, 531, 523, 977, 1682, 52, 478, 109, 142, 137, 3046, 9978, 176, 52, 463, 901, 1329, 188, 9040, 199, 1705, 11189, 8097, 6, 2746, 135, 150, 110, 20896, 84, 149, 372, 2212, 734, 1026, 33, 86, 3402, 1057, 1107]\n"
     ]
    }
   ],
   "source": [
    "\n",
    "## 2) A ideia agora é identificar os ingredientes que mais e menos aparecem nos pratos.\n",
    "## Como sempre que um ingrediente aparece, temos o número 1, se somarmos o valor da coluna, \n",
    "## teremos a quantidade de vezes que ele aparece nos pratos.\n",
    "## Vamos começar armazenando a soma de cada coluna em uma lista.\n",
    "\n",
    "\n",
    "list1 = []\n",
    "i = 1\n",
    "\n",
    "print(list1)\n",
    "\n",
    "while i<384:\n",
    "    list1.append(recipes.iloc[:,i].sum())\n",
    "    i +=1\n",
    "print(list1)"
   ]
  },
  {
   "cell_type": "code",
   "execution_count": 14,
   "metadata": {},
   "outputs": [
    {
     "name": "stdout",
     "output_type": "stream",
     "text": [
      "egg    0\n",
      "Name: 0, dtype: object\n",
      "\n",
      "21114\n"
     ]
    }
   ],
   "source": [
    "## Armazenando o índice da lista que tem maior valor, podemos identificar o índice da coluna para saber o nome do ingrediente\n",
    "\n",
    "coluna1 = list1.index(max(list1))\n",
    "\n",
    "print(recipes.iloc[0,[coluna1+1]]) # Usamos o índice + 1, pois a primeira coluna do df é a coluna \"cuisine\"\n",
    "print()\n",
    "print(max(list1))"
   ]
  },
  {
   "cell_type": "code",
   "execution_count": 15,
   "metadata": {},
   "outputs": [
    {
     "data": {
      "text/html": [
       "<div>\n",
       "<style scoped>\n",
       "    .dataframe tbody tr th:only-of-type {\n",
       "        vertical-align: middle;\n",
       "    }\n",
       "\n",
       "    .dataframe tbody tr th {\n",
       "        vertical-align: top;\n",
       "    }\n",
       "\n",
       "    .dataframe thead th {\n",
       "        text-align: right;\n",
       "    }\n",
       "</style>\n",
       "<table border=\"1\" class=\"dataframe\">\n",
       "  <thead>\n",
       "    <tr style=\"text-align: right;\">\n",
       "      <th></th>\n",
       "      <th>almond</th>\n",
       "      <th>angelica</th>\n",
       "      <th>anise</th>\n",
       "      <th>anise_seed</th>\n",
       "      <th>apple</th>\n",
       "      <th>apple_brandy</th>\n",
       "      <th>apricot</th>\n",
       "      <th>armagnac</th>\n",
       "      <th>artemisia</th>\n",
       "      <th>artichoke</th>\n",
       "      <th>...</th>\n",
       "      <th>whiskey</th>\n",
       "      <th>white_bread</th>\n",
       "      <th>white_wine</th>\n",
       "      <th>whole_grain_wheat_flour</th>\n",
       "      <th>wine</th>\n",
       "      <th>wood</th>\n",
       "      <th>yam</th>\n",
       "      <th>yeast</th>\n",
       "      <th>yogurt</th>\n",
       "      <th>zucchini</th>\n",
       "    </tr>\n",
       "  </thead>\n",
       "  <tbody>\n",
       "  </tbody>\n",
       "</table>\n",
       "<p>0 rows × 383 columns</p>\n",
       "</div>"
      ],
      "text/plain": [
       "Empty DataFrame\n",
       "Columns: [almond, angelica, anise, anise_seed, apple, apple_brandy, apricot, armagnac, artemisia, artichoke, asparagus, avocado, bacon, baked_potato, balm, banana, barley, bartlett_pear, basil, bay, bean, beech, beef, beef_broth, beef_liver, beer, beet, bell_pepper, bergamot, berry, bitter_orange, black_bean, black_currant, black_mustard_seed_oil, black_pepper, black_raspberry, black_sesame_seed, black_tea, blackberry, blackberry_brandy, blue_cheese, blueberry, bone_oil, bourbon_whiskey, brandy, brassica, bread, broccoli, brown_rice, brussels_sprout, buckwheat, butter, buttermilk, cabbage, cabernet_sauvignon_wine, cacao, camembert_cheese, cane_molasses, caraway, cardamom, carnation, carob, carrot, cashew, cassava, catfish, cauliflower, caviar, cayenne, celery, celery_oil, cereal, chamomile, champagne_wine, chayote, cheddar_cheese, cheese, cherry, cherry_brandy, chervil, chicken, chicken_broth, chicken_liver, chickpea, chicory, chinese_cabbage, chive, cider, cilantro, cinnamon, citrus, citrus_peel, clam, clove, cocoa, coconut, coconut_oil, cod, coffee, cognac, ...]\n",
       "Index: []\n",
       "\n",
       "[0 rows x 383 columns]"
      ]
     },
     "execution_count": 15,
     "metadata": {},
     "output_type": "execute_result"
    }
   ],
   "source": [
    "## Queremos construir um gráfico que possamos ver os \"maiores\" e \"menores\" itens.\n",
    "## Vamos copiar o df para termos os nomes das colunas e podermos armazenar as quantidades em baixo da respectiva coluna.\n",
    "\n",
    "ingredients_sum = recipes.copy()\n",
    "list2 = []\n",
    "\n",
    "i = 0 \n",
    "for i in range(57691):\n",
    "    list2.append(i)\n",
    "    \n",
    "ingredients_sum.drop(list2, axis=0, inplace=True)\n",
    "ingredients_sum.drop('cuisine', axis=1, inplace=True)\n",
    "\n",
    "ingredients_sum"
   ]
  },
  {
   "cell_type": "code",
   "execution_count": 16,
   "metadata": {},
   "outputs": [
    {
     "data": {
      "text/html": [
       "<div>\n",
       "<style scoped>\n",
       "    .dataframe tbody tr th:only-of-type {\n",
       "        vertical-align: middle;\n",
       "    }\n",
       "\n",
       "    .dataframe tbody tr th {\n",
       "        vertical-align: top;\n",
       "    }\n",
       "\n",
       "    .dataframe thead th {\n",
       "        text-align: right;\n",
       "    }\n",
       "</style>\n",
       "<table border=\"1\" class=\"dataframe\">\n",
       "  <thead>\n",
       "    <tr style=\"text-align: right;\">\n",
       "      <th></th>\n",
       "      <th>almond</th>\n",
       "      <th>angelica</th>\n",
       "      <th>anise</th>\n",
       "      <th>anise_seed</th>\n",
       "      <th>apple</th>\n",
       "      <th>apple_brandy</th>\n",
       "      <th>apricot</th>\n",
       "      <th>armagnac</th>\n",
       "      <th>artemisia</th>\n",
       "      <th>artichoke</th>\n",
       "      <th>...</th>\n",
       "      <th>whiskey</th>\n",
       "      <th>white_bread</th>\n",
       "      <th>white_wine</th>\n",
       "      <th>whole_grain_wheat_flour</th>\n",
       "      <th>wine</th>\n",
       "      <th>wood</th>\n",
       "      <th>yam</th>\n",
       "      <th>yeast</th>\n",
       "      <th>yogurt</th>\n",
       "      <th>zucchini</th>\n",
       "    </tr>\n",
       "  </thead>\n",
       "  <tbody>\n",
       "    <tr>\n",
       "      <th>1</th>\n",
       "      <td>2329</td>\n",
       "      <td>1</td>\n",
       "      <td>224</td>\n",
       "      <td>87</td>\n",
       "      <td>2433</td>\n",
       "      <td>37</td>\n",
       "      <td>626</td>\n",
       "      <td>11</td>\n",
       "      <td>13</td>\n",
       "      <td>391</td>\n",
       "      <td>...</td>\n",
       "      <td>149</td>\n",
       "      <td>372</td>\n",
       "      <td>2212</td>\n",
       "      <td>734</td>\n",
       "      <td>1026</td>\n",
       "      <td>33</td>\n",
       "      <td>86</td>\n",
       "      <td>3402</td>\n",
       "      <td>1057</td>\n",
       "      <td>1107</td>\n",
       "    </tr>\n",
       "  </tbody>\n",
       "</table>\n",
       "<p>1 rows × 383 columns</p>\n",
       "</div>"
      ],
      "text/plain": [
       "   almond  angelica  anise  anise_seed  apple  apple_brandy  apricot  \\\n",
       "1    2329         1    224          87   2433            37      626   \n",
       "\n",
       "   armagnac  artemisia  artichoke  ...  whiskey  white_bread  white_wine  \\\n",
       "1        11         13        391  ...      149          372        2212   \n",
       "\n",
       "   whole_grain_wheat_flour  wine  wood  yam  yeast  yogurt  zucchini  \n",
       "1                      734  1026    33   86   3402    1057      1107  \n",
       "\n",
       "[1 rows x 383 columns]"
      ]
     },
     "execution_count": 16,
     "metadata": {},
     "output_type": "execute_result"
    }
   ],
   "source": [
    "## Armazenando os valores\n",
    "\n",
    "ingredients_sum.loc[1] = list1\n",
    "ingredients_sum"
   ]
  },
  {
   "cell_type": "code",
   "execution_count": 17,
   "metadata": {},
   "outputs": [
    {
     "data": {
      "image/png": "[encoded data removed]",
      "text/plain": [
       "<Figure size 432x288 with 1 Axes>"
      ]
     },
     "metadata": {
      "needs_background": "light"
     },
     "output_type": "display_data"
    }
   ],
   "source": [
    "## Vamos utilizar o dicionário para criarmos o gráfico\n",
    "\n",
    "dici = dict(ingredients_sum.iloc[0,:]) \n",
    "\n",
    "plt.bar(dici.keys(), dici.values())\n",
    "plt.show()"
   ]
  },
  {
   "cell_type": "markdown",
   "metadata": {},
   "source": [
    "Bom, o gráfico ficou ilegível pela quantidade de ingredientes, então não nos ajuda muito...\n",
    "Vamos tentar uma abordagem diferente:"
   ]
  },
  {
   "cell_type": "code",
   "execution_count": 18,
   "metadata": {},
   "outputs": [
    {
     "name": "stdout",
     "output_type": "stream",
     "text": [
      "angelica 1\n",
      "beech 1\n",
      "durian 1\n",
      "emmental_cheese 1\n",
      "geranium 1\n",
      "jamaican_rum 1\n",
      "kaffir_lime 1\n",
      "lilac_flower_oil 1\n",
      "mate 1\n",
      "muscat_grape 1\n",
      "pelargonium 1\n",
      "roasted_hazelnut 1\n",
      "roasted_nut 1\n",
      "roasted_pecan 1\n",
      "strawberry_jam 1\n",
      "sturgeon_caviar 1\n",
      "jasmine_tea 2\n",
      "laurel 2\n",
      "long_pepper 2\n",
      "pimenta 2\n",
      "raw_beef 2\n",
      "red_algae 2\n",
      "sheep_cheese 2\n",
      "soybean_oil 2\n",
      "strawberry_juice 2\n",
      "balm 3\n",
      "carnation 3\n",
      "chamomile 3\n",
      "holy_basil 3\n",
      "hop 3\n",
      "mutton 3\n",
      "rapeseed 3\n",
      "roasted_almond 3\n",
      "blackberry_brandy 4\n",
      "citrus_peel 4\n",
      "sea_algae 4\n",
      "elderberry 5\n",
      "pork_liver 5\n",
      "kohlrabi 6\n",
      "smoked_fish 6\n",
      "spearmint 6\n",
      "violet 6\n",
      "bergamot 7\n",
      "carob 7\n",
      "black_raspberry 8\n",
      "grape_brandy 8\n",
      "jasmine 8\n",
      "sunflower_oil 8\n",
      "baked_potato 9\n",
      "condiment 9\n",
      "gardenia 9\n",
      "leaf 9\n",
      "lingonberry 9\n",
      "ouzo 9\n",
      "peppermint_oil 9\n",
      "beef_liver 10\n",
      "clove 10\n",
      "herring 10\n",
      "huckleberry 10\n",
      "armagnac 11\n",
      "black_currant 11\n",
      "pear_brandy 11\n",
      "camembert_cheese 12\n",
      "concord_grape 12\n",
      "litchi 12\n",
      "artemisia 13\n",
      "guava 13\n",
      "japanese_plum 13\n",
      "sumac 14\n",
      "mandarin_peel 15\n",
      "roasted_meat 15\n",
      "salmon_roe 15\n",
      "cabernet_sauvignon_wine 17\n",
      "coconut_oil 17\n",
      "orange_flower 18\n",
      "sassafras 18\n",
      "eel 20\n",
      "passion_fruit 20\n",
      "prickly_pear 20\n",
      "licorice 21\n",
      "cassava 22\n",
      "bartlett_pear 23\n",
      "roquefort_cheese 23\n",
      "mung_bean 24\n",
      "black_sesame_seed 26\n",
      "prawn 26\n",
      "chayote 27\n",
      "munster_cheese 27\n",
      "shellfish 27\n",
      "caviar 28\n",
      "quince 29\n",
      "black_mustard_seed_oil 30\n",
      "haddock 31\n",
      "flower 32\n",
      "juniper_berry 33\n",
      "kumquat 33\n",
      "red_bean 33\n",
      "wood 33\n",
      "cherry_brandy 34\n",
      "rutabaga 34\n",
      "cacao 35\n",
      "green_tea 35\n",
      "apple_brandy 37\n",
      "frankfurter 37\n",
      "malt 38\n",
      "liver 42\n",
      "mackerel 44\n",
      "black_tea 45\n",
      "gruyere_cheese 45\n",
      "octopus 45\n",
      "sour_milk 46\n",
      "palm 47\n",
      "port_wine 49\n",
      "bone_oil 50\n",
      "sour_cherry 50\n",
      "galanga 51\n",
      "nectarine 51\n",
      "chervil 52\n",
      "chicken_liver 52\n",
      "tangerine 52\n",
      "truffle 52\n",
      "matsutake 57\n",
      "papaya 57\n",
      "red_kidney_bean 59\n",
      "oatmeal 61\n",
      "lavender 62\n",
      "katsuobushi 63\n",
      "rose 63\n",
      "potato_chip 65\n",
      "cognac 67\n",
      "nira 67\n",
      "gin 68\n",
      "catfish 71\n",
      "wheat_bread 84\n",
      "bitter_orange 85\n",
      "yam 86\n",
      "anise_seed 87\n",
      "buckwheat 90\n",
      "brussels_sprout 92\n",
      "rye_bread 92\n",
      "popcorn 97\n",
      "champagne_wine 100\n",
      "kale 100\n",
      "smoked_salmon 100\n",
      "root 101\n",
      "okra 102\n",
      "macadamia_nut 103\n",
      "enokidake 106\n",
      "porcini 106\n",
      "lime_peel_oil 108\n",
      "kiwi 109\n",
      "tea 109\n",
      "watermelon 110\n",
      "endive 115\n",
      "brassica 116\n",
      "mace 118\n",
      "grapefruit 121\n",
      "roasted_pork 125\n",
      "savory 128\n",
      "lobster 131\n",
      "rye_flour 131\n",
      "star_anise 133\n",
      "wasabi 135\n",
      "thai_pepper 137\n",
      "fig 139\n",
      "parsnip 140\n",
      "lovage 142\n",
      "peppermint 142\n",
      "tequila 142\n",
      "lima_bean 149\n",
      "whiskey 149\n",
      "watercress 150\n",
      "bourbon_whiskey 156\n",
      "chicory 157\n",
      "corn_grit 163\n",
      "melon 163\n",
      "chinese_cabbage 166\n",
      "provolone_cheese 168\n",
      "mussel 169\n",
      "rhubarb 169\n",
      "blackberry 170\n",
      "citrus 171\n",
      "tomato_juice 176\n",
      "kelp 179\n",
      "cod 181\n",
      "berry 183\n",
      "sauerkraut 185\n",
      "turnip 188\n",
      "veal 199\n",
      "cereal 204\n",
      "roasted_peanut 205\n",
      "cashew 210\n",
      "seaweed 215\n",
      "lemongrass 221\n",
      "pistachio 222\n",
      "anise 224\n",
      "corn_flake 225\n",
      "roasted_beef 228\n",
      "beet 233\n",
      "caraway 233\n",
      "saffron 236\n",
      "squid 238\n",
      "currant 242\n",
      "lentil 251\n",
      "goat_cheese 260\n",
      "barley 267\n",
      "smoked_sausage 268\n",
      "pimento 270\n",
      "romano_cheese 275\n",
      "mandarin 279\n",
      "hazelnut 288\n",
      "plum 290\n",
      "scallop 300\n",
      "beer 308\n",
      "peanut_oil 312\n",
      "cured_pork 315\n",
      "egg_noodle 319\n",
      "cauliflower 333\n",
      "grape 346\n",
      "brown_rice 347\n",
      "cottage_cheese 348\n",
      "white_bread 372\n",
      "cardamom 375\n",
      "date 378\n",
      "artichoke 391\n",
      "blue_cheese 396\n",
      "horseradish 396\n",
      "brandy 399\n",
      "chickpea 406\n",
      "oyster 410\n",
      "mango 420\n",
      "leek 426\n",
      "kidney_bean 442\n",
      "salmon 452\n",
      "asparagus 461\n",
      "smoke 463\n",
      "tuna 463\n",
      "blueberry 467\n",
      "clam 476\n",
      "maple_syrup 478\n",
      "tarragon 478\n",
      "fruit 481\n",
      "pear 484\n",
      "lamb 488\n",
      "black_bean 495\n",
      "peanut 512\n",
      "swiss_cheese 523\n",
      "marjoram 528\n",
      "radish 528\n",
      "peach 531\n",
      "sweet_potato 531\n",
      "squash 573\n",
      "crab 574\n",
      "shiitake 595\n",
      "orange_peel 596\n",
      "roasted_sesame_seed 597\n",
      "rum 603\n",
      "feta_cheese 623\n",
      "apricot 626\n",
      "avocado 662\n",
      "sake 681\n",
      "sherry 707\n",
      "coffee 720\n",
      "lemon_peel 729\n",
      "whole_grain_wheat_flour 734\n",
      "sesame_seed 781\n",
      "raspberry 786\n",
      "pumpkin 806\n",
      "grape_juice 825\n",
      "beef_broth 850\n",
      "turkey 901\n",
      "sage 904\n",
      "fennel 913\n",
      "cranberry 920\n",
      "broccoli 931\n",
      "fenugreek 940\n",
      "milk_fat 962\n",
      "tabasco_pepper 977\n",
      "meat 991\n",
      "banana 992\n",
      "celery_oil 1008\n",
      "wine 1026\n",
      "peanut_butter 1029\n",
      "mint 1030\n",
      "cabbage 1035\n",
      "yogurt 1057\n",
      "strawberry 1081\n",
      "cherry 1085\n",
      "zucchini 1107\n",
      "dill 1111\n",
      "cider 1136\n",
      "lime 1165\n",
      "pea 1190\n",
      "soybean 1197\n",
      "lettuce 1211\n",
      "nut 1259\n",
      "oat 1267\n",
      "mozzarella_cheese 1291\n",
      "ham 1302\n",
      "shallot 1310\n",
      "turmeric 1329\n",
      "chive 1337\n",
      "seed 1346\n",
      "pork_sausage 1371\n",
      "red_wine 1399\n",
      "gelatin 1418\n",
      "bay 1486\n",
      "lime_juice 1622\n",
      "buttermilk 1637\n",
      "pineapple 1638\n",
      "coriander 1679\n",
      "tamarind 1682\n",
      "shrimp 1690\n",
      "sesame_oil 1697\n",
      "vegetable 1705\n",
      "orange 1728\n",
      "orange_juice 1728\n",
      "olive 1799\n",
      "coconut 1822\n",
      "rosemary 1893\n",
      "raisin 1905\n",
      "cucumber 1908\n",
      "bean 2003\n",
      "pork 2072\n",
      "fish 2113\n",
      "bacon 2172\n",
      "pecan 2178\n",
      "white_wine 2212\n",
      "almond 2329\n",
      "apple 2433\n",
      "cilantro 2493\n",
      "nutmeg 2522\n",
      "honey 2558\n",
      "green_bell_pepper 2590\n",
      "starch 2740\n",
      "walnut 2746\n",
      "cream_cheese 2843\n",
      "cheddar_cheese 3029\n",
      "thyme 3046\n",
      "lard 3062\n",
      "lemon 3066\n",
      "macaroni 3117\n",
      "parmesan_cheese 3174\n",
      "oregano 3182\n",
      "cheese 3286\n",
      "cumin 3321\n",
      "mushroom 3379\n",
      "yeast 3402\n",
      "potato 3561\n",
      "chicken_broth 3620\n",
      "celery 3634\n",
      "carrot 3717\n",
      "soy_sauce 3828\n",
      "basil 3845\n",
      "rice 3888\n",
      "mustard 4125\n",
      "ginger 4396\n",
      "bread 4596\n",
      "scallion 4798\n",
      "cocoa 4807\n",
      "corn 4836\n",
      "beef 4946\n",
      "lemon_juice 5099\n",
      "chicken 5483\n",
      "parsley 5579\n",
      "cinnamon 5639\n",
      "bell_pepper 6006\n",
      "cane_molasses 7770\n",
      "vinegar 8097\n",
      "cayenne 8303\n",
      "vanilla 9040\n",
      "pepper 9282\n",
      "black_pepper 9893\n",
      "olive_oil 9923\n",
      "tomato 9978\n",
      "cream 10194\n",
      "vegetable_oil 11189\n",
      "milk 12925\n",
      "garlic 17465\n",
      "onion 18205\n",
      "butter 20814\n",
      "wheat 20896\n",
      "egg 21114\n"
     ]
    }
   ],
   "source": [
    "## Organizando o dicionário por valores\n",
    "\n",
    "i = 0\n",
    "\n",
    "for i in sorted(dici, key = dici.get):\n",
    "    print(i, dici[i])\n"
   ]
  },
  {
   "cell_type": "code",
   "execution_count": 19,
   "metadata": {},
   "outputs": [
    {
     "data": {
      "image/png": "[encoded data removed]",
      "text/plain": [
       "<Figure size 432x288 with 1 Axes>"
      ]
     },
     "metadata": {
      "needs_background": "light"
     },
     "output_type": "display_data"
    }
   ],
   "source": [
    "## 2) e 3)\n",
    "## Respondendo ambas as perguntas:\n",
    "## Criamos os valores manualmente, pois não precisamos automatizar esta análise.\n",
    "\n",
    "\n",
    "dicimax = {'egg':21114, 'wheat':20896, 'butter':20814, 'onion':18205, 'garlic':17465}\n",
    "dicimin = {'angelica':1}\n",
    "\n",
    "dici_onario = {**dicimax, **dicimin}\n",
    "plt.bar(dici_onario.keys(), dici_onario.values())\n",
    "plt.show()"
   ]
  },
  {
   "cell_type": "markdown",
   "metadata": {},
   "source": [
    "Temos os 5 ingredientes que mais aparecem no df e dentre os que menos aparecem, angelica e outros só estão presentes em 1 prato."
   ]
  },
  {
   "cell_type": "code",
   "execution_count": 21,
   "metadata": {},
   "outputs": [
    {
     "data": {
      "text/plain": [
       "american                  0.70\n",
       "italian                   0.06\n",
       "mexican                   0.04\n",
       "french                    0.02\n",
       "asian                     0.02\n",
       "east_asian                0.02\n",
       "korean                    0.01\n",
       "canadian                  0.01\n",
       "indian                    0.01\n",
       "western                   0.01\n",
       "chinese                   0.01\n",
       "uk-and-irish              0.01\n",
       "southern_soulfood         0.01\n",
       "jewish                    0.01\n",
       "japanese                  0.01\n",
       "spanish_portuguese        0.01\n",
       "german                    0.01\n",
       "thai                      0.01\n",
       "mediterranean             0.01\n",
       "scandinavian              0.00\n",
       "middleeastern             0.00\n",
       "central_southamerican     0.00\n",
       "eastern-europe            0.00\n",
       "greek                     0.00\n",
       "english_scottish          0.00\n",
       "caribbean                 0.00\n",
       "louisiana_creole          0.00\n",
       "easterneuropean_russian   0.00\n",
       "moroccan                  0.00\n",
       "african                   0.00\n",
       "southwestern              0.00\n",
       "south-america             0.00\n",
       "vietnamese                0.00\n",
       "spanish                   0.00\n",
       "north-african             0.00\n",
       "portuguese                0.00\n",
       "philippine                0.00\n",
       "dutch                     0.00\n",
       "lebanese                  0.00\n",
       "iranian                   0.00\n",
       "austrian                  0.00\n",
       "swiss                     0.00\n",
       "pakistanese               0.00\n",
       "malaysian                 0.00\n",
       "south-african             0.00\n",
       "turkish                   0.00\n",
       "west-african              0.00\n",
       "indonesian                0.00\n",
       "east-african              0.00\n",
       "belgian                   0.00\n",
       "israeli                   0.00\n",
       "bangladeshi               0.00\n",
       "Name: cuisine, dtype: float64"
      ]
     },
     "execution_count": 21,
     "metadata": {},
     "output_type": "execute_result"
    }
   ],
   "source": [
    "## 5) Quais culinárias mais aparecem?\n",
    "\n",
    "recipes.cuisine.value_counts(normalize=True).sort_values(ascending=False)"
   ]
  },
  {
   "cell_type": "markdown",
   "metadata": {},
   "source": [
    "O dataframe é bem desbalanceado, muito peso em culinárias americanas e pouquíssimo de outras, o que provavelmente vai fazer \n",
    "com que nosso modelo não seja tão útil para replicação no mundo real por enquanto."
   ]
  },
  {
   "cell_type": "markdown",
   "metadata": {},
   "source": [
    "## Vamos começar o modelo em si"
   ]
  },
  {
   "cell_type": "code",
   "execution_count": 22,
   "metadata": {},
   "outputs": [
    {
     "data": {
      "text/html": [
       "<div>\n",
       "<style scoped>\n",
       "    .dataframe tbody tr th:only-of-type {\n",
       "        vertical-align: middle;\n",
       "    }\n",
       "\n",
       "    .dataframe tbody tr th {\n",
       "        vertical-align: top;\n",
       "    }\n",
       "\n",
       "    .dataframe thead th {\n",
       "        text-align: right;\n",
       "    }\n",
       "</style>\n",
       "<table border=\"1\" class=\"dataframe\">\n",
       "  <thead>\n",
       "    <tr style=\"text-align: right;\">\n",
       "      <th></th>\n",
       "      <th>cuisine</th>\n",
       "      <th>almond</th>\n",
       "      <th>angelica</th>\n",
       "      <th>anise</th>\n",
       "      <th>anise_seed</th>\n",
       "      <th>apple</th>\n",
       "      <th>apple_brandy</th>\n",
       "      <th>apricot</th>\n",
       "      <th>armagnac</th>\n",
       "      <th>artemisia</th>\n",
       "      <th>...</th>\n",
       "      <th>whiskey</th>\n",
       "      <th>white_bread</th>\n",
       "      <th>white_wine</th>\n",
       "      <th>whole_grain_wheat_flour</th>\n",
       "      <th>wine</th>\n",
       "      <th>wood</th>\n",
       "      <th>yam</th>\n",
       "      <th>yeast</th>\n",
       "      <th>yogurt</th>\n",
       "      <th>zucchini</th>\n",
       "    </tr>\n",
       "  </thead>\n",
       "  <tbody>\n",
       "    <tr>\n",
       "      <th>0</th>\n",
       "      <td>vietnamese</td>\n",
       "      <td>0</td>\n",
       "      <td>0</td>\n",
       "      <td>0</td>\n",
       "      <td>0</td>\n",
       "      <td>0</td>\n",
       "      <td>0</td>\n",
       "      <td>0</td>\n",
       "      <td>0</td>\n",
       "      <td>0</td>\n",
       "      <td>...</td>\n",
       "      <td>0</td>\n",
       "      <td>0</td>\n",
       "      <td>0</td>\n",
       "      <td>0</td>\n",
       "      <td>0</td>\n",
       "      <td>0</td>\n",
       "      <td>0</td>\n",
       "      <td>0</td>\n",
       "      <td>0</td>\n",
       "      <td>0</td>\n",
       "    </tr>\n",
       "    <tr>\n",
       "      <th>1</th>\n",
       "      <td>vietnamese</td>\n",
       "      <td>0</td>\n",
       "      <td>0</td>\n",
       "      <td>0</td>\n",
       "      <td>0</td>\n",
       "      <td>0</td>\n",
       "      <td>0</td>\n",
       "      <td>0</td>\n",
       "      <td>0</td>\n",
       "      <td>0</td>\n",
       "      <td>...</td>\n",
       "      <td>0</td>\n",
       "      <td>0</td>\n",
       "      <td>0</td>\n",
       "      <td>0</td>\n",
       "      <td>0</td>\n",
       "      <td>0</td>\n",
       "      <td>0</td>\n",
       "      <td>0</td>\n",
       "      <td>0</td>\n",
       "      <td>0</td>\n",
       "    </tr>\n",
       "    <tr>\n",
       "      <th>2</th>\n",
       "      <td>vietnamese</td>\n",
       "      <td>0</td>\n",
       "      <td>0</td>\n",
       "      <td>0</td>\n",
       "      <td>0</td>\n",
       "      <td>0</td>\n",
       "      <td>0</td>\n",
       "      <td>0</td>\n",
       "      <td>0</td>\n",
       "      <td>0</td>\n",
       "      <td>...</td>\n",
       "      <td>0</td>\n",
       "      <td>0</td>\n",
       "      <td>0</td>\n",
       "      <td>0</td>\n",
       "      <td>0</td>\n",
       "      <td>0</td>\n",
       "      <td>0</td>\n",
       "      <td>0</td>\n",
       "      <td>0</td>\n",
       "      <td>0</td>\n",
       "    </tr>\n",
       "    <tr>\n",
       "      <th>3</th>\n",
       "      <td>vietnamese</td>\n",
       "      <td>0</td>\n",
       "      <td>0</td>\n",
       "      <td>0</td>\n",
       "      <td>0</td>\n",
       "      <td>0</td>\n",
       "      <td>0</td>\n",
       "      <td>0</td>\n",
       "      <td>0</td>\n",
       "      <td>0</td>\n",
       "      <td>...</td>\n",
       "      <td>0</td>\n",
       "      <td>0</td>\n",
       "      <td>0</td>\n",
       "      <td>0</td>\n",
       "      <td>0</td>\n",
       "      <td>0</td>\n",
       "      <td>0</td>\n",
       "      <td>0</td>\n",
       "      <td>0</td>\n",
       "      <td>0</td>\n",
       "    </tr>\n",
       "    <tr>\n",
       "      <th>4</th>\n",
       "      <td>vietnamese</td>\n",
       "      <td>0</td>\n",
       "      <td>0</td>\n",
       "      <td>0</td>\n",
       "      <td>0</td>\n",
       "      <td>0</td>\n",
       "      <td>0</td>\n",
       "      <td>0</td>\n",
       "      <td>0</td>\n",
       "      <td>0</td>\n",
       "      <td>...</td>\n",
       "      <td>0</td>\n",
       "      <td>0</td>\n",
       "      <td>0</td>\n",
       "      <td>0</td>\n",
       "      <td>0</td>\n",
       "      <td>0</td>\n",
       "      <td>0</td>\n",
       "      <td>0</td>\n",
       "      <td>0</td>\n",
       "      <td>0</td>\n",
       "    </tr>\n",
       "  </tbody>\n",
       "</table>\n",
       "<p>5 rows × 384 columns</p>\n",
       "</div>"
      ],
      "text/plain": [
       "      cuisine  almond  angelica  anise  anise_seed  apple  apple_brandy  \\\n",
       "0  vietnamese       0         0      0           0      0             0   \n",
       "1  vietnamese       0         0      0           0      0             0   \n",
       "2  vietnamese       0         0      0           0      0             0   \n",
       "3  vietnamese       0         0      0           0      0             0   \n",
       "4  vietnamese       0         0      0           0      0             0   \n",
       "\n",
       "   apricot  armagnac  artemisia  ...  whiskey  white_bread  white_wine  \\\n",
       "0        0         0          0  ...        0            0           0   \n",
       "1        0         0          0  ...        0            0           0   \n",
       "2        0         0          0  ...        0            0           0   \n",
       "3        0         0          0  ...        0            0           0   \n",
       "4        0         0          0  ...        0            0           0   \n",
       "\n",
       "   whole_grain_wheat_flour  wine  wood  yam  yeast  yogurt  zucchini  \n",
       "0                        0     0     0    0      0       0         0  \n",
       "1                        0     0     0    0      0       0         0  \n",
       "2                        0     0     0    0      0       0         0  \n",
       "3                        0     0     0    0      0       0         0  \n",
       "4                        0     0     0    0      0       0         0  \n",
       "\n",
       "[5 rows x 384 columns]"
      ]
     },
     "execution_count": 22,
     "metadata": {},
     "output_type": "execute_result"
    }
   ],
   "source": [
    "## Relembrando\n",
    "\n",
    "recipes.head()"
   ]
  },
  {
   "cell_type": "code",
   "execution_count": 47,
   "metadata": {},
   "outputs": [],
   "source": [
    "## Criamos as features e target\n",
    "\n",
    "features = list(recipes.columns)\n",
    "del(features[0])\n",
    "target = 'cuisine'"
   ]
  },
  {
   "cell_type": "code",
   "execution_count": 48,
   "metadata": {},
   "outputs": [],
   "source": [
    "## Vamos usar o módulo do Scikit-Learn para dividir nosso df em teste e validação\n",
    "\n",
    "X = recipes[features]\n",
    "y = recipes[target]\n",
    "\n",
    "X_train, X_val, y_train, y_val = train_test_split(X, y, test_size=0.3, random_state=1)"
   ]
  },
  {
   "cell_type": "code",
   "execution_count": 49,
   "metadata": {},
   "outputs": [
    {
     "data": {
      "text/html": [
       "<style>#sk-container-id-2 {color: black;background-color: white;}#sk-container-id-2 pre{padding: 0;}#sk-container-id-2 div.sk-toggleable {background-color: white;}#sk-container-id-2 label.sk-toggleable__label {cursor: pointer;display: block;width: 100%;margin-bottom: 0;padding: 0.3em;box-sizing: border-box;text-align: center;}#sk-container-id-2 label.sk-toggleable__label-arrow:before {content: \"▸\";float: left;margin-right: 0.25em;color: #696969;}#sk-container-id-2 label.sk-toggleable__label-arrow:hover:before {color: black;}#sk-container-id-2 div.sk-estimator:hover label.sk-toggleable__label-arrow:before {color: black;}#sk-container-id-2 div.sk-toggleable__content {max-height: 0;max-width: 0;overflow: hidden;text-align: left;background-color: #f0f8ff;}#sk-container-id-2 div.sk-toggleable__content pre {margin: 0.2em;color: black;border-radius: 0.25em;background-color: #f0f8ff;}#sk-container-id-2 input.sk-toggleable__control:checked~div.sk-toggleable__content {max-height: 200px;max-width: 100%;overflow: auto;}#sk-container-id-2 input.sk-toggleable__control:checked~label.sk-toggleable__label-arrow:before {content: \"▾\";}#sk-container-id-2 div.sk-estimator input.sk-toggleable__control:checked~label.sk-toggleable__label {background-color: #d4ebff;}#sk-container-id-2 div.sk-label input.sk-toggleable__control:checked~label.sk-toggleable__label {background-color: #d4ebff;}#sk-container-id-2 input.sk-hidden--visually {border: 0;clip: rect(1px 1px 1px 1px);clip: rect(1px, 1px, 1px, 1px);height: 1px;margin: -1px;overflow: hidden;padding: 0;position: absolute;width: 1px;}#sk-container-id-2 div.sk-estimator {font-family: monospace;background-color: #f0f8ff;border: 1px dotted black;border-radius: 0.25em;box-sizing: border-box;margin-bottom: 0.5em;}#sk-container-id-2 div.sk-estimator:hover {background-color: #d4ebff;}#sk-container-id-2 div.sk-parallel-item::after {content: \"\";width: 100%;border-bottom: 1px solid gray;flex-grow: 1;}#sk-container-id-2 div.sk-label:hover label.sk-toggleable__label {background-color: #d4ebff;}#sk-container-id-2 div.sk-serial::before {content: \"\";position: absolute;border-left: 1px solid gray;box-sizing: border-box;top: 0;bottom: 0;left: 50%;z-index: 0;}#sk-container-id-2 div.sk-serial {display: flex;flex-direction: column;align-items: center;background-color: white;padding-right: 0.2em;padding-left: 0.2em;position: relative;}#sk-container-id-2 div.sk-item {position: relative;z-index: 1;}#sk-container-id-2 div.sk-parallel {display: flex;align-items: stretch;justify-content: center;background-color: white;position: relative;}#sk-container-id-2 div.sk-item::before, #sk-container-id-2 div.sk-parallel-item::before {content: \"\";position: absolute;border-left: 1px solid gray;box-sizing: border-box;top: 0;bottom: 0;left: 50%;z-index: -1;}#sk-container-id-2 div.sk-parallel-item {display: flex;flex-direction: column;z-index: 1;position: relative;background-color: white;}#sk-container-id-2 div.sk-parallel-item:first-child::after {align-self: flex-end;width: 50%;}#sk-container-id-2 div.sk-parallel-item:last-child::after {align-self: flex-start;width: 50%;}#sk-container-id-2 div.sk-parallel-item:only-child::after {width: 0;}#sk-container-id-2 div.sk-dashed-wrapped {border: 1px dashed gray;margin: 0 0.4em 0.5em 0.4em;box-sizing: border-box;padding-bottom: 0.4em;background-color: white;}#sk-container-id-2 div.sk-label label {font-family: monospace;font-weight: bold;display: inline-block;line-height: 1.2em;}#sk-container-id-2 div.sk-label-container {text-align: center;}#sk-container-id-2 div.sk-container {/* jupyter's `normalize.less` sets `[hidden] { display: none; }` but bootstrap.min.css set `[hidden] { display: none !important; }` so we also need the `!important` here to be able to override the default hidden behavior on the sphinx rendered scikit-learn.org. See: https://github.com/scikit-learn/scikit-learn/issues/21755 */display: inline-block !important;position: relative;}#sk-container-id-2 div.sk-text-repr-fallback {display: none;}</style><div id=\"sk-container-id-2\" class=\"sk-top-container\"><div class=\"sk-text-repr-fallback\"><pre>RandomForestClassifier()</pre><b>In a Jupyter environment, please rerun this cell to show the HTML representation or trust the notebook. <br />On GitHub, the HTML representation is unable to render, please try loading this page with nbviewer.org.</b></div><div class=\"sk-container\" hidden><div class=\"sk-item\"><div class=\"sk-estimator sk-toggleable\"><input class=\"sk-toggleable__control sk-hidden--visually\" id=\"sk-estimator-id-2\" type=\"checkbox\" checked><label for=\"sk-estimator-id-2\" class=\"sk-toggleable__label sk-toggleable__label-arrow\">RandomForestClassifier</label><div class=\"sk-toggleable__content\"><pre>RandomForestClassifier()</pre></div></div></div></div></div>"
      ],
      "text/plain": [
       "RandomForestClassifier()"
      ]
     },
     "execution_count": 49,
     "metadata": {},
     "output_type": "execute_result"
    }
   ],
   "source": [
    "## Efetivamente usando os dados para treinar o modelo\n",
    "\n",
    "recipes_model = RandomForestClassifier()\n",
    "recipes_model.fit(X_train, y_train)"
   ]
  },
  {
   "cell_type": "code",
   "execution_count": 50,
   "metadata": {},
   "outputs": [
    {
     "data": {
      "text/plain": [
       "array(['chinese', 'american', 'american', ..., 'american', 'american',\n",
       "       'eastern-europe'], dtype=object)"
      ]
     },
     "execution_count": 50,
     "metadata": {},
     "output_type": "execute_result"
    }
   ],
   "source": [
    "## Agora vamos prever as culinárias para nossas features de validação\n",
    "\n",
    "y_pred = recipes_model.predict(X_val)\n",
    "y_pred"
   ]
  },
  {
   "cell_type": "code",
   "execution_count": 78,
   "metadata": {},
   "outputs": [
    {
     "name": "stdout",
     "output_type": "stream",
     "text": [
      "Acurácia: 0.7078229720360527\n"
     ]
    }
   ],
   "source": [
    "## Medindo a acurácia com outro módulo do Scikit-Learn\n",
    "\n",
    "from sklearn.metrics import accuracy_score\n",
    "\n",
    "print(\"Acurácia: \" + str(accuracy_score(y_val, y_pred)))"
   ]
  },
  {
   "cell_type": "markdown",
   "metadata": {},
   "source": [
    "Como previamos, o modelo não representa a verdade e não temos muito o que fazer para melhorá-lo com tamanha disparidade nos dados"
   ]
  },
  {
   "cell_type": "code",
   "execution_count": 54,
   "metadata": {},
   "outputs": [
    {
     "name": "stdout",
     "output_type": "stream",
     "text": [
      "0.7078229720360527\n"
     ]
    }
   ],
   "source": [
    "## Outra maneira de vermos sua efetividade\n",
    "\n",
    "print(np.mean(y_val == y_pred))"
   ]
  },
  {
   "cell_type": "markdown",
   "metadata": {},
   "source": [
    "Temos que em 70% das vezes, o modelo acertou, porém como 70% do nosso df é só de 1 culinária, se o modelo literalmente só chutasse \"american\" para todas as linhas, naturalmente teríamos 70% de acerto."
   ]
  },
  {
   "cell_type": "code",
   "execution_count": 29,
   "metadata": {},
   "outputs": [
    {
     "name": "stdout",
     "output_type": "stream",
     "text": [
      "Treino: [0 1 3 5 6 7]\n",
      "Valid: [2 4 8 9]\n",
      "\n",
      "Treino: [0 2 3 4 5 8 9]\n",
      "Valid: [1 6 7]\n",
      "\n",
      "Treino: [1 2 4 6 7 8 9]\n",
      "Valid: [0 3 5]\n",
      "\n"
     ]
    }
   ],
   "source": [
    "## Vamos tentar usar o método KFold so Scikit-Learn para misturar os dados e tentar aumentar um pouco a assertividade \n",
    "## Primeiramente vamos entender como funciona o KFold\n",
    "\n",
    "from sklearn.model_selection import KFold\n",
    "\n",
    "X_falso = np.arange(10)\n",
    "\n",
    "kf = KFold(3, shuffle=True, random_state=0)\n",
    "for linhas_treino, linhas_valid in kf.split(X_falso):\n",
    "    print(\"Treino:\", linhas_treino)\n",
    "    print(\"Valid:\", linhas_valid)\n",
    "    print()\n"
   ]
  },
  {
   "cell_type": "markdown",
   "metadata": {},
   "source": [
    "O KFold seleciona aleatorimante linhas para treino e validação. A simulação a cima mostra como o método dividiria um df com 10 linhas por 3x, a fim de encontrarmos a melhor combinação das linhas e obter uma melhor acurácia"
   ]
  },
  {
   "cell_type": "code",
   "execution_count": 31,
   "metadata": {
    "scrolled": true
   },
   "outputs": [
    {
     "name": "stdout",
     "output_type": "stream",
     "text": [
      "Rep: 0\n",
      "Treino: 28845\n",
      "Valid: 28846\n",
      "Acc: 0.7151424807598974\n",
      "\n",
      "Treino: 28846\n",
      "Valid: 28845\n",
      "Acc: 0.7142312359161033\n",
      "\n",
      "Rep: 1\n",
      "Treino: 28845\n",
      "Valid: 28846\n",
      "Acc: 0.7135824724398531\n",
      "\n",
      "Treino: 28846\n",
      "Valid: 28845\n",
      "Acc: 0.7146125845033802\n",
      "\n",
      "Rep: 2\n",
      "Treino: 28845\n",
      "Valid: 28846\n",
      "Acc: 0.7122997989322609\n",
      "\n",
      "Treino: 28846\n",
      "Valid: 28845\n",
      "Acc: 0.7156179580516554\n",
      "\n",
      "Rep: 3\n",
      "Treino: 28845\n",
      "Valid: 28846\n",
      "Acc: 0.7150038133536712\n",
      "\n",
      "Treino: 28846\n",
      "Valid: 28845\n",
      "Acc: 0.7118044721788872\n",
      "\n",
      "Rep: 4\n",
      "Treino: 28845\n",
      "Valid: 28846\n",
      "Acc: 0.7110171254246689\n",
      "\n",
      "Treino: 28846\n",
      "Valid: 28845\n",
      "Acc: 0.7165193274397642\n",
      "\n",
      "Rep: 5\n",
      "Treino: 28845\n",
      "Valid: 28846\n",
      "Acc: 0.7124384663384872\n",
      "\n",
      "Treino: 28846\n",
      "Valid: 28845\n",
      "Acc: 0.7160686427457098\n",
      "\n",
      "Rep: 6\n",
      "Treino: 28845\n",
      "Valid: 28846\n",
      "Acc: 0.713201137072731\n",
      "\n",
      "Treino: 28846\n",
      "Valid: 28845\n",
      "Acc: 0.7138152192754377\n",
      "\n",
      "Rep: 7\n",
      "Treino: 28845\n",
      "Valid: 28846\n",
      "Acc: 0.7146224779865492\n",
      "\n",
      "Treino: 28846\n",
      "Valid: 28845\n",
      "Acc: 0.7144739122898249\n",
      "\n",
      "Rep: 8\n",
      "Treino: 28845\n",
      "Valid: 28846\n",
      "Acc: 0.712750468002496\n",
      "\n",
      "Treino: 28846\n",
      "Valid: 28845\n",
      "Acc: 0.714993933090657\n",
      "\n",
      "Rep: 9\n",
      "Treino: 28845\n",
      "Valid: 28846\n",
      "Acc: 0.7158358177910282\n",
      "\n",
      "Treino: 28846\n",
      "Valid: 28845\n",
      "Acc: 0.7129485179407177\n",
      "\n"
     ]
    }
   ],
   "source": [
    "## Agora vamos fazer isso para nosso df de verdade\n",
    "## Essa célula vai demorar um pouco para rodar pelo tanto de tarefas executadas\n",
    "\n",
    "resultados = []\n",
    "for rep in range(10):\n",
    "    print(\"Rep:\", rep)\n",
    "    kf = KFold(2, shuffle=True, random_state=rep)\n",
    "    \n",
    "    for linhas_treino, linhas_valid in kf.split(X):\n",
    "        print(\"Treino:\", linhas_treino.shape[0])\n",
    "        print(\"Valid:\", linhas_valid.shape[0])\n",
    "\n",
    "        X_train, X_val = X.iloc[linhas_treino], X.iloc[linhas_valid]\n",
    "        y_train, y_val = y.iloc[linhas_treino], y.iloc[linhas_valid]\n",
    "\n",
    "        modelo = RandomForestClassifier(n_estimators=100, n_jobs=-1, random_state=1)\n",
    "        modelo.fit(X_train, y_train)\n",
    "\n",
    "        p = modelo.predict(X_val)\n",
    "\n",
    "        acc = np.mean(y_val == p)\n",
    "        resultados.append(acc)\n",
    "        print(\"Acc:\", acc)\n",
    "        print()"
   ]
  },
  {
   "cell_type": "markdown",
   "metadata": {},
   "source": [
    "Não melhoramos muito, como esperado pelo df. Mas este é o fim do projeto, com arquivo devidamente explorado, limpo, modelo criado e proposta de melhoria. "
   ]
  },
  {
   "cell_type": "code",
   "execution_count": 32,
   "metadata": {},
   "outputs": [
    {
     "data": {
      "text/plain": [
       "cayenne            0.02\n",
       "olive_oil          0.02\n",
       "egg                0.02\n",
       "butter             0.02\n",
       "vegetable_oil      0.02\n",
       "                   ... \n",
       "jamaican_rum       0.00\n",
       "strawberry_juice   0.00\n",
       "kaffir_lime        0.00\n",
       "pimenta            0.00\n",
       "laurel             0.00\n",
       "Length: 383, dtype: float64"
      ]
     },
     "execution_count": 32,
     "metadata": {},
     "output_type": "execute_result"
    }
   ],
   "source": [
    "## Por fim vamos verificar a importância de cada linha para o modelo\n",
    "\n",
    "feature_imp = pd.Series(modelo.feature_importances_, index=X_train.columns).sort_values(ascending=False)\n",
    "feature_imp"
   ]
  },
  {
   "cell_type": "markdown",
   "metadata": {},
   "source": [
    "## Undersampling"
   ]
  },
  {
   "cell_type": "code",
   "execution_count": 56,
   "metadata": {},
   "outputs": [
    {
     "data": {
      "text/plain": [
       "(40150, 17541)"
      ]
     },
     "execution_count": 56,
     "metadata": {},
     "output_type": "execute_result"
    }
   ],
   "source": [
    "maj_class_len = len(recipes[recipes[target] == 'american'])\n",
    "min_class_len = len(recipes[recipes[target] != 'american'])\n",
    "\n",
    "maj_class_len, min_class_len"
   ]
  },
  {
   "cell_type": "code",
   "execution_count": 57,
   "metadata": {},
   "outputs": [],
   "source": [
    "maj_class_index = recipes[recipes[target] == 'american'].index\n",
    "min_class_index = recipes[recipes[target] != 'american'].index"
   ]
  },
  {
   "cell_type": "code",
   "execution_count": 58,
   "metadata": {},
   "outputs": [
    {
     "name": "stdout",
     "output_type": "stream",
     "text": [
      "17541\n"
     ]
    }
   ],
   "source": [
    "random_maj_index = np.random.choice(maj_class_index, min_class_len, replace=False)\n",
    "\n",
    "print(len(random_maj_index))"
   ]
  },
  {
   "cell_type": "code",
   "execution_count": 59,
   "metadata": {},
   "outputs": [],
   "source": [
    "under_sample_index = np.concatenate([min_class_index, random_maj_index])\n",
    "under_sample = recipes.loc[under_sample_index]"
   ]
  },
  {
   "cell_type": "code",
   "execution_count": 60,
   "metadata": {},
   "outputs": [
    {
     "data": {
      "text/plain": [
       "<AxesSubplot:xlabel='cuisine', ylabel='count'>"
      ]
     },
     "execution_count": 60,
     "metadata": {},
     "output_type": "execute_result"
    },
    {
     "data": {
      "image/png": "[encoded data removed]",
      "text/plain": [
       "<Figure size 640x480 with 1 Axes>"
      ]
     },
     "metadata": {},
     "output_type": "display_data"
    }
   ],
   "source": [
    "sns.countplot(x=target, data=under_sample)"
   ]
  },
  {
   "cell_type": "code",
   "execution_count": 61,
   "metadata": {},
   "outputs": [
    {
     "data": {
      "text/plain": [
       "(40150, 3250)"
      ]
     },
     "execution_count": 61,
     "metadata": {},
     "output_type": "execute_result"
    }
   ],
   "source": [
    "maj_class_len = len(recipes[recipes[target] == 'american'])\n",
    "min_class_len = len(recipes[recipes[target] == 'italian'])\n",
    "\n",
    "maj_class_len, min_class_len"
   ]
  },
  {
   "cell_type": "code",
   "execution_count": 72,
   "metadata": {},
   "outputs": [],
   "source": [
    "maj_class_index = recipes[recipes[target] == 'american'].index\n",
    "min_class_index = recipes[recipes[target] == 'italian'].index\n",
    "\n",
    "min_classes_index = recipes[recipes[target] != 'american'].index"
   ]
  },
  {
   "cell_type": "code",
   "execution_count": 71,
   "metadata": {},
   "outputs": [
    {
     "name": "stdout",
     "output_type": "stream",
     "text": [
      "3250\n"
     ]
    }
   ],
   "source": [
    "random_maj_index = np.random.choice(maj_class_index, min_class_len, replace=False)\n",
    "\n",
    "print(len(random_maj_index))"
   ]
  },
  {
   "cell_type": "code",
   "execution_count": 73,
   "metadata": {},
   "outputs": [],
   "source": [
    "under_sample_index = np.concatenate([min_classes_index, random_maj_index])\n",
    "under_sample = recipes.loc[under_sample_index]"
   ]
  },
  {
   "cell_type": "code",
   "execution_count": 74,
   "metadata": {},
   "outputs": [
    {
     "data": {
      "text/plain": [
       "<AxesSubplot:xlabel='cuisine', ylabel='count'>"
      ]
     },
     "execution_count": 74,
     "metadata": {},
     "output_type": "execute_result"
    },
    {
     "data": {
      "image/png": "[encoded data removed]",
      "text/plain": [
       "<Figure size 640x480 with 1 Axes>"
      ]
     },
     "metadata": {},
     "output_type": "display_data"
    }
   ],
   "source": [
    "sns.countplot(x=target, data=under_sample)"
   ]
  },
  {
   "cell_type": "code",
   "execution_count": 75,
   "metadata": {},
   "outputs": [],
   "source": [
    "X = under_sample.loc[:, recipes.columns!=target]\n",
    "y = under_sample.loc[:, recipes.columns==target]\n",
    "\n",
    "X_treino, X_valid, y_treino, y_valid = train_test_split(X,y, test_size=0.3, random_state=1)"
   ]
  },
  {
   "cell_type": "code",
   "execution_count": 76,
   "metadata": {},
   "outputs": [
    {
     "name": "stderr",
     "output_type": "stream",
     "text": [
      "C:\\Users\\LENOVO\\AppData\\Local\\Temp\\ipykernel_12604\\129303853.py:1: DataConversionWarning: A column-vector y was passed when a 1d array was expected. Please change the shape of y to (n_samples,), for example using ravel().\n",
      "  under_sample_model = RandomForestClassifier().fit(X_treino, y_treino)\n"
     ]
    }
   ],
   "source": [
    "under_sample_model = RandomForestClassifier().fit(X_treino, y_treino)\n",
    "y_p = under_sample_model.predict(X_valid)"
   ]
  },
  {
   "cell_type": "code",
   "execution_count": 79,
   "metadata": {},
   "outputs": [
    {
     "name": "stdout",
     "output_type": "stream",
     "text": [
      "Acurácia: 0.4158384097467137\n"
     ]
    }
   ],
   "source": [
    "print(\"Acurácia: \" + str(accuracy_score(y_valid, y_p)))"
   ]
  },
  {
   "cell_type": "markdown",
   "metadata": {},
   "source": [
    "### Vamos tentar diminuir a variabilidade das culinárias"
   ]
  },
  {
   "cell_type": "code",
   "execution_count": 95,
   "metadata": {},
   "outputs": [
    {
     "data": {
      "text/plain": [
       "american                   40150\n",
       "italian                     3250\n",
       "mexican                     2390\n",
       "french                      1264\n",
       "asian                       1193\n",
       "east_asian                   951\n",
       "korean                       799\n",
       "canadian                     774\n",
       "indian                       598\n",
       "western                      450\n",
       "chinese                      442\n",
       "uk-and-irish                 368\n",
       "southern_soulfood            346\n",
       "jewish                       320\n",
       "japanese                     320\n",
       "spanish_portuguese           291\n",
       "german                       289\n",
       "thai                         289\n",
       "mediterranean                289\n",
       "scandinavian                 250\n",
       "middleeastern                248\n",
       "central_southamerican        241\n",
       "eastern-europe               235\n",
       "greek                        225\n",
       "english_scottish             204\n",
       "caribbean                    183\n",
       "louisiana_creole             146\n",
       "easterneuropean_russian      146\n",
       "moroccan                     137\n",
       "african                      115\n",
       "southwestern                 108\n",
       "south-america                103\n",
       "vietnamese                    95\n",
       "spanish                       75\n",
       "north-african                 60\n",
       "portuguese                    50\n",
       "philippine                    43\n",
       "dutch                         32\n",
       "lebanese                      31\n",
       "iranian                       21\n",
       "austrian                      21\n",
       "swiss                         20\n",
       "pakistanese                   19\n",
       "malaysian                     18\n",
       "south-african                 16\n",
       "turkish                       16\n",
       "west-african                  13\n",
       "indonesian                    12\n",
       "east-african                  11\n",
       "belgian                       11\n",
       "israeli                        9\n",
       "bangladeshi                    4\n",
       "Name: cuisine, dtype: int64"
      ]
     },
     "execution_count": 95,
     "metadata": {},
     "output_type": "execute_result"
    }
   ],
   "source": [
    "recipes_counts = recipes.cuisine.value_counts().sort_values(ascending=False)\n",
    "recipes_counts"
   ]
  },
  {
   "cell_type": "code",
   "execution_count": 110,
   "metadata": {},
   "outputs": [
    {
     "data": {
      "text/html": [
       "<div>\n",
       "<style scoped>\n",
       "    .dataframe tbody tr th:only-of-type {\n",
       "        vertical-align: middle;\n",
       "    }\n",
       "\n",
       "    .dataframe tbody tr th {\n",
       "        vertical-align: top;\n",
       "    }\n",
       "\n",
       "    .dataframe thead th {\n",
       "        text-align: right;\n",
       "    }\n",
       "</style>\n",
       "<table border=\"1\" class=\"dataframe\">\n",
       "  <thead>\n",
       "    <tr style=\"text-align: right;\">\n",
       "      <th></th>\n",
       "      <th>cuisine</th>\n",
       "      <th>almond</th>\n",
       "      <th>angelica</th>\n",
       "      <th>anise</th>\n",
       "      <th>anise_seed</th>\n",
       "      <th>apple</th>\n",
       "      <th>apple_brandy</th>\n",
       "      <th>apricot</th>\n",
       "      <th>armagnac</th>\n",
       "      <th>artemisia</th>\n",
       "      <th>...</th>\n",
       "      <th>whiskey</th>\n",
       "      <th>white_bread</th>\n",
       "      <th>white_wine</th>\n",
       "      <th>whole_grain_wheat_flour</th>\n",
       "      <th>wine</th>\n",
       "      <th>wood</th>\n",
       "      <th>yam</th>\n",
       "      <th>yeast</th>\n",
       "      <th>yogurt</th>\n",
       "      <th>zucchini</th>\n",
       "    </tr>\n",
       "  </thead>\n",
       "  <tbody>\n",
       "    <tr>\n",
       "      <th>65</th>\n",
       "      <td>indian</td>\n",
       "      <td>0</td>\n",
       "      <td>0</td>\n",
       "      <td>0</td>\n",
       "      <td>0</td>\n",
       "      <td>0</td>\n",
       "      <td>0</td>\n",
       "      <td>0</td>\n",
       "      <td>0</td>\n",
       "      <td>0</td>\n",
       "      <td>...</td>\n",
       "      <td>0</td>\n",
       "      <td>0</td>\n",
       "      <td>0</td>\n",
       "      <td>0</td>\n",
       "      <td>0</td>\n",
       "      <td>0</td>\n",
       "      <td>0</td>\n",
       "      <td>0</td>\n",
       "      <td>0</td>\n",
       "      <td>0</td>\n",
       "    </tr>\n",
       "    <tr>\n",
       "      <th>66</th>\n",
       "      <td>indian</td>\n",
       "      <td>1</td>\n",
       "      <td>0</td>\n",
       "      <td>0</td>\n",
       "      <td>0</td>\n",
       "      <td>0</td>\n",
       "      <td>0</td>\n",
       "      <td>0</td>\n",
       "      <td>0</td>\n",
       "      <td>0</td>\n",
       "      <td>...</td>\n",
       "      <td>0</td>\n",
       "      <td>0</td>\n",
       "      <td>0</td>\n",
       "      <td>0</td>\n",
       "      <td>0</td>\n",
       "      <td>0</td>\n",
       "      <td>0</td>\n",
       "      <td>0</td>\n",
       "      <td>0</td>\n",
       "      <td>0</td>\n",
       "    </tr>\n",
       "    <tr>\n",
       "      <th>67</th>\n",
       "      <td>indian</td>\n",
       "      <td>0</td>\n",
       "      <td>0</td>\n",
       "      <td>0</td>\n",
       "      <td>0</td>\n",
       "      <td>0</td>\n",
       "      <td>0</td>\n",
       "      <td>0</td>\n",
       "      <td>0</td>\n",
       "      <td>0</td>\n",
       "      <td>...</td>\n",
       "      <td>0</td>\n",
       "      <td>0</td>\n",
       "      <td>0</td>\n",
       "      <td>0</td>\n",
       "      <td>0</td>\n",
       "      <td>0</td>\n",
       "      <td>0</td>\n",
       "      <td>0</td>\n",
       "      <td>0</td>\n",
       "      <td>0</td>\n",
       "    </tr>\n",
       "    <tr>\n",
       "      <th>68</th>\n",
       "      <td>indian</td>\n",
       "      <td>0</td>\n",
       "      <td>0</td>\n",
       "      <td>0</td>\n",
       "      <td>0</td>\n",
       "      <td>0</td>\n",
       "      <td>0</td>\n",
       "      <td>0</td>\n",
       "      <td>0</td>\n",
       "      <td>0</td>\n",
       "      <td>...</td>\n",
       "      <td>0</td>\n",
       "      <td>0</td>\n",
       "      <td>0</td>\n",
       "      <td>0</td>\n",
       "      <td>0</td>\n",
       "      <td>0</td>\n",
       "      <td>0</td>\n",
       "      <td>0</td>\n",
       "      <td>0</td>\n",
       "      <td>0</td>\n",
       "    </tr>\n",
       "    <tr>\n",
       "      <th>69</th>\n",
       "      <td>indian</td>\n",
       "      <td>0</td>\n",
       "      <td>0</td>\n",
       "      <td>0</td>\n",
       "      <td>0</td>\n",
       "      <td>0</td>\n",
       "      <td>0</td>\n",
       "      <td>0</td>\n",
       "      <td>0</td>\n",
       "      <td>0</td>\n",
       "      <td>...</td>\n",
       "      <td>0</td>\n",
       "      <td>0</td>\n",
       "      <td>0</td>\n",
       "      <td>0</td>\n",
       "      <td>0</td>\n",
       "      <td>0</td>\n",
       "      <td>0</td>\n",
       "      <td>0</td>\n",
       "      <td>1</td>\n",
       "      <td>0</td>\n",
       "    </tr>\n",
       "  </tbody>\n",
       "</table>\n",
       "<p>5 rows × 384 columns</p>\n",
       "</div>"
      ],
      "text/plain": [
       "   cuisine  almond  angelica  anise  anise_seed  apple  apple_brandy  apricot  \\\n",
       "65  indian       0         0      0           0      0             0        0   \n",
       "66  indian       1         0      0           0      0             0        0   \n",
       "67  indian       0         0      0           0      0             0        0   \n",
       "68  indian       0         0      0           0      0             0        0   \n",
       "69  indian       0         0      0           0      0             0        0   \n",
       "\n",
       "    armagnac  artemisia  ...  whiskey  white_bread  white_wine  \\\n",
       "65         0          0  ...        0            0           0   \n",
       "66         0          0  ...        0            0           0   \n",
       "67         0          0  ...        0            0           0   \n",
       "68         0          0  ...        0            0           0   \n",
       "69         0          0  ...        0            0           0   \n",
       "\n",
       "    whole_grain_wheat_flour  wine  wood  yam  yeast  yogurt  zucchini  \n",
       "65                        0     0     0    0      0       0         0  \n",
       "66                        0     0     0    0      0       0         0  \n",
       "67                        0     0     0    0      0       0         0  \n",
       "68                        0     0     0    0      0       0         0  \n",
       "69                        0     0     0    0      0       1         0  \n",
       "\n",
       "[5 rows x 384 columns]"
      ]
     },
     "execution_count": 110,
     "metadata": {},
     "output_type": "execute_result"
    }
   ],
   "source": [
    "cuisines_index = recipes_counts >= 100\n",
    "\n",
    "cuisines_to_drop = list(np.array(recipes_counts.index.values)[np.array(cuisines_index)])\n",
    "recipes = recipes.loc[recipes['cuisine'].isin(cuisines_to_drop)]\n",
    "\n",
    "recipes.head()"
   ]
  },
  {
   "cell_type": "code",
   "execution_count": 111,
   "metadata": {},
   "outputs": [
    {
     "data": {
      "text/plain": [
       "<AxesSubplot:xlabel='cuisine', ylabel='count'>"
      ]
     },
     "execution_count": 111,
     "metadata": {},
     "output_type": "execute_result"
    },
    {
     "data": {
      "image/png": "[encoded data removed]",
      "text/plain": [
       "<Figure size 640x480 with 1 Axes>"
      ]
     },
     "metadata": {},
     "output_type": "display_data"
    }
   ],
   "source": [
    "sns.countplot(x=target, data=recipes)"
   ]
  },
  {
   "cell_type": "code",
   "execution_count": 112,
   "metadata": {},
   "outputs": [
    {
     "data": {
      "text/plain": [
       "(40150, 3250)"
      ]
     },
     "execution_count": 112,
     "metadata": {},
     "output_type": "execute_result"
    }
   ],
   "source": [
    "maj_class_len = len(recipes[recipes[target] == 'american'])\n",
    "min_class_len = len(recipes[recipes[target] == 'italian'])\n",
    "\n",
    "maj_class_len, min_class_len"
   ]
  },
  {
   "cell_type": "code",
   "execution_count": 113,
   "metadata": {},
   "outputs": [],
   "source": [
    "maj_class_index = recipes[recipes[target] == 'american'].index\n",
    "min_class_index = recipes[recipes[target] == 'italian'].index\n",
    "\n",
    "min_classes_index = recipes[recipes[target] != 'american'].index"
   ]
  },
  {
   "cell_type": "code",
   "execution_count": 114,
   "metadata": {},
   "outputs": [
    {
     "name": "stdout",
     "output_type": "stream",
     "text": [
      "3250\n"
     ]
    }
   ],
   "source": [
    "random_maj_index = np.random.choice(maj_class_index, min_class_len, replace=False)\n",
    "\n",
    "print(len(random_maj_index))"
   ]
  },
  {
   "cell_type": "code",
   "execution_count": 115,
   "metadata": {},
   "outputs": [],
   "source": [
    "under_sample_index = np.concatenate([min_classes_index, random_maj_index])\n",
    "under_sample = recipes.loc[under_sample_index]"
   ]
  },
  {
   "cell_type": "code",
   "execution_count": 116,
   "metadata": {},
   "outputs": [
    {
     "data": {
      "text/plain": [
       "<AxesSubplot:xlabel='cuisine', ylabel='count'>"
      ]
     },
     "execution_count": 116,
     "metadata": {},
     "output_type": "execute_result"
    },
    {
     "data": {
      "image/png": "[encoded data removed]",
      "text/plain": [
       "<Figure size 640x480 with 1 Axes>"
      ]
     },
     "metadata": {},
     "output_type": "display_data"
    }
   ],
   "source": [
    "sns.countplot(x=target, data=under_sample)"
   ]
  },
  {
   "cell_type": "code",
   "execution_count": 135,
   "metadata": {},
   "outputs": [],
   "source": [
    "X = under_sample.loc[:, recipes.columns!=target]\n",
    "y = under_sample.loc[:, recipes.columns==target]\n",
    "\n",
    "X_treino, X_valid, y_treino, y_valid = train_test_split(X,y, random_state=1)"
   ]
  },
  {
   "cell_type": "code",
   "execution_count": 136,
   "metadata": {},
   "outputs": [
    {
     "name": "stderr",
     "output_type": "stream",
     "text": [
      "C:\\Users\\LENOVO\\AppData\\Local\\Temp\\ipykernel_12604\\129303853.py:1: DataConversionWarning: A column-vector y was passed when a 1d array was expected. Please change the shape of y to (n_samples,), for example using ravel().\n",
      "  under_sample_model = RandomForestClassifier().fit(X_treino, y_treino)\n"
     ]
    }
   ],
   "source": [
    "under_sample_model = RandomForestClassifier().fit(X_treino, y_treino)\n",
    "y_p = under_sample_model.predict(X_valid)"
   ]
  },
  {
   "cell_type": "code",
   "execution_count": 137,
   "metadata": {},
   "outputs": [
    {
     "name": "stdout",
     "output_type": "stream",
     "text": [
      "Acurácia: 0.4319351009101702\n"
     ]
    }
   ],
   "source": [
    "print(\"Acurácia: \" + str(accuracy_score(y_valid, y_p)))"
   ]
  },
  {
   "cell_type": "code",
   "execution_count": 148,
   "metadata": {},
   "outputs": [],
   "source": [
    "from sklearn.linear_model import LogisticRegression\n",
    "from sklearn.metrics import classification_report, plot_confusion_matrix"
   ]
  },
  {
   "cell_type": "code",
   "execution_count": 151,
   "metadata": {},
   "outputs": [
    {
     "name": "stderr",
     "output_type": "stream",
     "text": [
      "C:\\Users\\LENOVO\\AppData\\Local\\Programs\\Python\\Python310\\lib\\site-packages\\sklearn\\utils\\validation.py:1111: DataConversionWarning: A column-vector y was passed when a 1d array was expected. Please change the shape of y to (n_samples, ), for example using ravel().\n",
      "  y = column_or_1d(y, warn=True)\n"
     ]
    },
    {
     "name": "stdout",
     "output_type": "stream",
     "text": [
      "Acurácia: 0.4946571682991986\n"
     ]
    }
   ],
   "source": [
    "under_sample_model = LogisticRegression(random_state=1, max_iter=1000)\n",
    "under_sample_model.fit(X_treino, y_treino)\n",
    "\n",
    "y_p = under_sample_model.predict(X_valid)\n",
    "\n",
    "print(\"Acurácia: \" + str(accuracy_score(y_valid, y_p)))"
   ]
  },
  {
   "cell_type": "code",
   "execution_count": 152,
   "metadata": {
    "scrolled": true
   },
   "outputs": [
    {
     "name": "stdout",
     "output_type": "stream",
     "text": [
      "                         precision    recall  f1-score   support\n",
      "\n",
      "                african       0.22      0.06      0.09        36\n",
      "               american       0.40      0.64      0.49      1113\n",
      "                  asian       0.52      0.49      0.50       430\n",
      "               canadian       0.23      0.02      0.04       262\n",
      "              caribbean       0.38      0.20      0.26        55\n",
      "  central_southamerican       0.29      0.02      0.04        97\n",
      "                chinese       0.30      0.25      0.27       149\n",
      "             east_asian       0.40      0.43      0.41       323\n",
      "         eastern-europe       0.40      0.17      0.24        81\n",
      "easterneuropean_russian       0.40      0.07      0.12        55\n",
      "       english_scottish       0.25      0.05      0.09        74\n",
      "                 french       0.41      0.39      0.40       408\n",
      "                 german       0.40      0.23      0.29        97\n",
      "                  greek       0.43      0.34      0.38        68\n",
      "                 indian       0.65      0.75      0.70       176\n",
      "                italian       0.63      0.77      0.69      1053\n",
      "               japanese       0.34      0.30      0.32       105\n",
      "                 jewish       0.32      0.22      0.26       102\n",
      "                 korean       0.40      0.37      0.38       248\n",
      "       louisiana_creole       0.48      0.21      0.29        57\n",
      "          mediterranean       0.14      0.05      0.07       102\n",
      "                mexican       0.68      0.79      0.73       811\n",
      "          middleeastern       0.35      0.30      0.32        82\n",
      "               moroccan       0.27      0.22      0.24        37\n",
      "           scandinavian       0.44      0.35      0.39        77\n",
      "          south-america       0.00      0.00      0.00        35\n",
      "      southern_soulfood       0.53      0.29      0.38       123\n",
      "           southwestern       0.00      0.00      0.00        36\n",
      "     spanish_portuguese       0.55      0.35      0.43        92\n",
      "                   thai       0.40      0.36      0.38        95\n",
      "           uk-and-irish       0.29      0.23      0.26       107\n",
      "                western       0.49      0.36      0.41       152\n",
      "\n",
      "               accuracy                           0.49      6738\n",
      "              macro avg       0.37      0.29      0.31      6738\n",
      "           weighted avg       0.47      0.49      0.46      6738\n",
      "\n"
     ]
    }
   ],
   "source": [
    "print(classification_report(y_valid, y_p))"
   ]
  }
 ],
 "metadata": {
  "kernelspec": {
   "display_name": "Python 3 (ipykernel)",
   "language": "python",
   "name": "python3"
  },
  "language_info": {
   "codemirror_mode": {
    "name": "ipython",
    "version": 3
   },
   "file_extension": ".py",
   "mimetype": "text/x-python",
   "name": "python",
   "nbconvert_exporter": "python",
   "pygments_lexer": "ipython3",
   "version": "3.10.5"
  },
  "widgets": {
   "state": {},
   "version": "1.1.2"
  }
 },
 "nbformat": 4,
 "nbformat_minor": 4
}
